{
  "cells": [
    {
      "cell_type": "code",
      "execution_count": 537,
      "metadata": {
        "id": "86Jf_e4vq-cJ"
      },
      "outputs": [],
      "source": [
        "import pandas as pd\n",
        "import numpy as np\n",
        "from datetime import datetime\n",
        "\n",
        "\n",
        "import haversine as hs   \n",
        "from haversine import Unit\n",
        "\n",
        "from tqdm import tqdm\n",
        "\n",
        "from sklearn.model_selection import train_test_split\n",
        "from sklearn.ensemble import RandomForestRegressor\n",
        "from sklearn.metrics import mean_absolute_error\n",
        "from sklearn.linear_model import LinearRegression\n",
        "\n",
        "import plotly.graph_objects as go\n",
        "\n"
      ]
    },
    {
      "attachments": {},
      "cell_type": "markdown",
      "metadata": {
        "id": "4hBTmXPG0tPq"
      },
      "source": [
        "# Download Data\n"
      ]
    },
    {
      "cell_type": "code",
      "execution_count": 2,
      "metadata": {
        "id": "XgO1y5kjq2HX"
      },
      "outputs": [
        {
          "data": {
            "text/html": [
              "<div>\n",
              "<style scoped>\n",
              "    .dataframe tbody tr th:only-of-type {\n",
              "        vertical-align: middle;\n",
              "    }\n",
              "\n",
              "    .dataframe tbody tr th {\n",
              "        vertical-align: top;\n",
              "    }\n",
              "\n",
              "    .dataframe thead th {\n",
              "        text-align: right;\n",
              "    }\n",
              "</style>\n",
              "<table border=\"1\" class=\"dataframe\">\n",
              "  <thead>\n",
              "    <tr style=\"text-align: right;\">\n",
              "      <th></th>\n",
              "      <th>index</th>\n",
              "      <th>game_date</th>\n",
              "      <th>home_team</th>\n",
              "      <th>away_team</th>\n",
              "      <th>is_day_game</th>\n",
              "      <th>home_score</th>\n",
              "      <th>away_score</th>\n",
              "      <th>venue</th>\n",
              "      <th>venue_name</th>\n",
              "      <th>city</th>\n",
              "      <th>...</th>\n",
              "      <th>home_2b</th>\n",
              "      <th>home_3b</th>\n",
              "      <th>home_hr</th>\n",
              "      <th>home_fo</th>\n",
              "      <th>home_so</th>\n",
              "      <th>home_bb</th>\n",
              "      <th>home_hbp</th>\n",
              "      <th>lat</th>\n",
              "      <th>lng</th>\n",
              "      <th>time_zone</th>\n",
              "    </tr>\n",
              "  </thead>\n",
              "  <tbody>\n",
              "    <tr>\n",
              "      <th>0</th>\n",
              "      <td>0</td>\n",
              "      <td>20000329</td>\n",
              "      <td>NYN</td>\n",
              "      <td>CHN</td>\n",
              "      <td>False</td>\n",
              "      <td>3</td>\n",
              "      <td>5</td>\n",
              "      <td>TOK01</td>\n",
              "      <td>Tokyo Dome</td>\n",
              "      <td>Tokyo</td>\n",
              "      <td>...</td>\n",
              "      <td>1</td>\n",
              "      <td>0</td>\n",
              "      <td>1</td>\n",
              "      <td>24</td>\n",
              "      <td>4</td>\n",
              "      <td>3</td>\n",
              "      <td>0</td>\n",
              "      <td>35.6764</td>\n",
              "      <td>139.6500</td>\n",
              "      <td>9</td>\n",
              "    </tr>\n",
              "    <tr>\n",
              "      <th>1</th>\n",
              "      <td>1</td>\n",
              "      <td>20000330</td>\n",
              "      <td>CHN</td>\n",
              "      <td>NYN</td>\n",
              "      <td>False</td>\n",
              "      <td>1</td>\n",
              "      <td>5</td>\n",
              "      <td>TOK01</td>\n",
              "      <td>Tokyo Dome</td>\n",
              "      <td>Tokyo</td>\n",
              "      <td>...</td>\n",
              "      <td>0</td>\n",
              "      <td>0</td>\n",
              "      <td>0</td>\n",
              "      <td>24</td>\n",
              "      <td>9</td>\n",
              "      <td>6</td>\n",
              "      <td>0</td>\n",
              "      <td>35.6764</td>\n",
              "      <td>139.6500</td>\n",
              "      <td>9</td>\n",
              "    </tr>\n",
              "    <tr>\n",
              "      <th>2</th>\n",
              "      <td>2</td>\n",
              "      <td>20000403</td>\n",
              "      <td>ATL</td>\n",
              "      <td>COL</td>\n",
              "      <td>True</td>\n",
              "      <td>2</td>\n",
              "      <td>0</td>\n",
              "      <td>ATL02</td>\n",
              "      <td>Turner Field</td>\n",
              "      <td>Atlanta</td>\n",
              "      <td>...</td>\n",
              "      <td>0</td>\n",
              "      <td>0</td>\n",
              "      <td>2</td>\n",
              "      <td>17</td>\n",
              "      <td>6</td>\n",
              "      <td>1</td>\n",
              "      <td>1</td>\n",
              "      <td>33.7488</td>\n",
              "      <td>-84.3877</td>\n",
              "      <td>-5</td>\n",
              "    </tr>\n",
              "    <tr>\n",
              "      <th>3</th>\n",
              "      <td>3</td>\n",
              "      <td>20000403</td>\n",
              "      <td>CIN</td>\n",
              "      <td>MIL</td>\n",
              "      <td>True</td>\n",
              "      <td>3</td>\n",
              "      <td>3</td>\n",
              "      <td>CIN08</td>\n",
              "      <td>Cinergy Field</td>\n",
              "      <td>Cincinnati</td>\n",
              "      <td>...</td>\n",
              "      <td>1</td>\n",
              "      <td>0</td>\n",
              "      <td>1</td>\n",
              "      <td>10</td>\n",
              "      <td>4</td>\n",
              "      <td>1</td>\n",
              "      <td>0</td>\n",
              "      <td>39.1031</td>\n",
              "      <td>-84.5120</td>\n",
              "      <td>-5</td>\n",
              "    </tr>\n",
              "    <tr>\n",
              "      <th>4</th>\n",
              "      <td>4</td>\n",
              "      <td>20000403</td>\n",
              "      <td>FLO</td>\n",
              "      <td>SFN</td>\n",
              "      <td>False</td>\n",
              "      <td>6</td>\n",
              "      <td>4</td>\n",
              "      <td>MIA01</td>\n",
              "      <td>Sun Life Stadium</td>\n",
              "      <td>Miami</td>\n",
              "      <td>...</td>\n",
              "      <td>3</td>\n",
              "      <td>0</td>\n",
              "      <td>0</td>\n",
              "      <td>17</td>\n",
              "      <td>7</td>\n",
              "      <td>1</td>\n",
              "      <td>1</td>\n",
              "      <td>25.7617</td>\n",
              "      <td>-80.1918</td>\n",
              "      <td>-5</td>\n",
              "    </tr>\n",
              "  </tbody>\n",
              "</table>\n",
              "<p>5 rows × 32 columns</p>\n",
              "</div>"
            ],
            "text/plain": [
              "   index  game_date home_team away_team  is_day_game  home_score  away_score  \\\n",
              "0      0   20000329       NYN       CHN        False           3           5   \n",
              "1      1   20000330       CHN       NYN        False           1           5   \n",
              "2      2   20000403       ATL       COL         True           2           0   \n",
              "3      3   20000403       CIN       MIL         True           3           3   \n",
              "4      4   20000403       FLO       SFN        False           6           4   \n",
              "\n",
              "   venue        venue_name        city  ... home_2b  home_3b  home_hr  \\\n",
              "0  TOK01        Tokyo Dome       Tokyo  ...       1        0        1   \n",
              "1  TOK01        Tokyo Dome       Tokyo  ...       0        0        0   \n",
              "2  ATL02      Turner Field     Atlanta  ...       0        0        2   \n",
              "3  CIN08     Cinergy Field  Cincinnati  ...       1        0        1   \n",
              "4  MIA01  Sun Life Stadium       Miami  ...       3        0        0   \n",
              "\n",
              "   home_fo  home_so  home_bb  home_hbp      lat       lng  time_zone  \n",
              "0       24        4        3         0  35.6764  139.6500          9  \n",
              "1       24        9        6         0  35.6764  139.6500          9  \n",
              "2       17        6        1         1  33.7488  -84.3877         -5  \n",
              "3       10        4        1         0  39.1031  -84.5120         -5  \n",
              "4       17        7        1         1  25.7617  -80.1918         -5  \n",
              "\n",
              "[5 rows x 32 columns]"
            ]
          },
          "execution_count": 2,
          "metadata": {},
          "output_type": "execute_result"
        }
      ],
      "source": [
        "# Download Base Data\n",
        "path = r'/Users/willmiraglia/Desktop/Datathon 2024/datathon_2024_dataset_corrected.csv' #r'/content/datathon_2024_dataset.csv'\n",
        "baseball_df = pd.read_csv(path).iloc[:, 1:] # just to remove the indexing column\n",
        "\n",
        "# Download City Data\n",
        "city_path = r'/Users/willmiraglia/Desktop/Datathon 2024/city_cords.csv' \n",
        "city_cords = pd.read_csv(city_path)\n",
        "\n",
        "## Merge Data\n",
        "baseball_df = pd.merge(baseball_df, city_cords, on='city', how='left').reset_index()\n",
        "baseball_df.head(5)"
      ]
    },
    {
      "attachments": {},
      "cell_type": "markdown",
      "metadata": {},
      "source": [
        "# Add Travel Data"
      ]
    },
    {
      "attachments": {},
      "cell_type": "markdown",
      "metadata": {},
      "source": [
        "## Distance Functions"
      ]
    },
    {
      "cell_type": "code",
      "execution_count": 3,
      "metadata": {},
      "outputs": [],
      "source": [
        "def get_haversine_distance_game(row):\n",
        "    city1 = (row['last_lat_game'], row['last_lng_game'])\n",
        "    city2 = (row['lat'], row['lng'])\n",
        "    \n",
        "    return hs.haversine(city1, city2, unit=hs.Unit.KILOMETERS)\n",
        "\n",
        "def get_haversine_distance_series(row):\n",
        "    city1 = (row['last_lat_series'], row['last_lng_series'])\n",
        "    city2 = (row['lat'], row['lng'])\n",
        "    \n",
        "    return hs.haversine(city1, city2, unit=hs.Unit.KILOMETERS)"
      ]
    },
    {
      "attachments": {},
      "cell_type": "markdown",
      "metadata": {
        "id": "CjfwemqP016Z"
      },
      "source": [
        "## Clean Original Data"
      ]
    },
    {
      "cell_type": "code",
      "execution_count": 7,
      "metadata": {
        "id": "Zx0nZ8UhrJMY"
      },
      "outputs": [],
      "source": [
        "def clean_data(baseball_df):\n",
        "    # convert to datetime formatting\n",
        "    baseball_df['game_date'] = pd.to_datetime(baseball_df['game_date'], format = \"%Y%m%d\") #change to yyyy-mm-dd\n",
        "    baseball_df['year'] = baseball_df['game_date'].dt.year\n",
        "\n",
        "    # add home win column\n",
        "    baseball_df['home_win']= [1 if x>y else 0 for x,y in zip(baseball_df['home_score'],baseball_df['away_score'])] #1 if home team won, 0 else\n",
        "\n",
        "    # clean the abbrevations\n",
        "    clean_abrev_dict = {\n",
        "        'NYN': 'NYM', # mets\n",
        "        'CHN': 'CHC', # cubs\n",
        "        'ATL': 'ATL', # braves\n",
        "        'CIN': 'CIN', # reds\n",
        "        'FLO': 'MIA', # marlins\n",
        "        'MON': 'MON', # expos\n",
        "        'SLN': 'STL', # cardinals\n",
        "        'ANA': 'LAA', # angels\n",
        "        'BAL': 'BAL', # orioles\n",
        "        'MIN': 'MIN', # twins\n",
        "        'OAK': 'OAK', # a's\n",
        "        'TEX': 'TEX', # rangers\n",
        "        'TOR': 'TOR', # blue jays\n",
        "        'ARI':  'AZ',  # d-backs\n",
        "        'PIT': 'PIT', # pirates\n",
        "        'SEA': 'SEA', # mariners\n",
        "        'HOU': 'HOU', # astros\n",
        "        'KCA': 'KC',  # royals\n",
        "        'TBA': 'TB',  # rays\n",
        "        'COL': 'COL', # rockies\n",
        "        'MIL': 'MIL', # brewers\n",
        "        'PHI': 'PHI', # phillies\n",
        "        'SDN': 'SD',  # padres\n",
        "        'SFN': 'SF',  # giants\n",
        "        'BOS': 'BOS', # red sox\n",
        "        'DET': 'DET', # tigers\n",
        "        'NYA': 'NYY', # yankees\n",
        "        'LAN': 'LAD', # dodgers\n",
        "        'CHA': 'CWS', # white sox\n",
        "        'CLE': 'CLE', # guardians\n",
        "        'WAS': 'WAS', # nationals\n",
        "        'MIA': 'MIA', # marlins\n",
        "    }\n",
        "\n",
        "    # replace the data abbreviations with the correct abbreviations\n",
        "    baseball_df['home_team'] = baseball_df['home_team'].map(clean_abrev_dict)\n",
        "    baseball_df['away_team'] = baseball_df['away_team'].map(clean_abrev_dict)\n",
        "\n",
        "    return baseball_df"
      ]
    },
    {
      "attachments": {},
      "cell_type": "markdown",
      "metadata": {},
      "source": [
        "## Create Travel Dictionary by Team"
      ]
    },
    {
      "cell_type": "code",
      "execution_count": 2,
      "metadata": {
        "id": "bPYdRZpJr-KS"
      },
      "outputs": [
        {
          "ename": "NameError",
          "evalue": "name 'baseball_df' is not defined",
          "output_type": "error",
          "traceback": [
            "\u001b[0;31m---------------------------------------------------------------------------\u001b[0m",
            "\u001b[0;31mNameError\u001b[0m                                 Traceback (most recent call last)",
            "Cell \u001b[0;32mIn[2], line 3\u001b[0m\n\u001b[1;32m      1\u001b[0m runTeamDict \u001b[39m=\u001b[39m \u001b[39mFalse\u001b[39;00m\n\u001b[0;32m----> 3\u001b[0m unique_teams \u001b[39m=\u001b[39m pd\u001b[39m.\u001b[39munique(pd\u001b[39m.\u001b[39mconcat([baseball_df[\u001b[39m'\u001b[39m\u001b[39mhome_team\u001b[39m\u001b[39m'\u001b[39m], baseball_df[\u001b[39m'\u001b[39m\u001b[39maway_team\u001b[39m\u001b[39m'\u001b[39m]]))\n\u001b[1;32m      4\u001b[0m \u001b[39mif\u001b[39;00m runTeamDict:\n\u001b[1;32m      5\u001b[0m     team_schedules \u001b[39m=\u001b[39m {}\n",
            "\u001b[0;31mNameError\u001b[0m: name 'baseball_df' is not defined"
          ]
        }
      ],
      "source": [
        "runTeamDict = False\n",
        "\n",
        "unique_teams = pd.unique(pd.concat([baseball_df['home_team'], baseball_df['away_team']]))\n",
        "if runTeamDict:\n",
        "    team_schedules = {}\n",
        "    for team in unique_teams:\n",
        "\n",
        "        all_team_games = baseball_df[(baseball_df['home_team'] == team) | (baseball_df['away_team'] == team)]\n",
        "        all_team_games = all_team_games.sort_values(by='game_date', ascending=True).reset_index(drop=True)\n",
        "        all_team_games['time_between_games'] = all_team_games['game_date'] - all_team_games['game_date'].shift(1)\n",
        "\n",
        "        all_team_games['last_lat_game'] = all_team_games['lat'].shift(1)\n",
        "        all_team_games['last_lng_game'] = all_team_games['lng'].shift(1)\n",
        "\n",
        "        all_team_games['distance_travelled_game'] = all_team_games.apply(get_haversine_distance_game, axis=1)\n",
        "\n",
        "        all_team_games['last_lat_series'] = np.nan\n",
        "        all_team_games['last_lng_series'] = np.nan\n",
        "\n",
        "        last_series_date = all_team_games.iloc[0]['game_date']\n",
        "        for i in range(1, len(all_team_games)):\n",
        "            curr_game = all_team_games.iloc[i]\n",
        "            \n",
        "            curr_home = curr_game['home_team']\n",
        "            curr_away = curr_game['away_team']\n",
        "            curr_venue = curr_game['venue_name']\n",
        "\n",
        "            last_game = all_team_games.iloc[i-1]\n",
        "\n",
        "            last_home = last_game['home_team']\n",
        "            last_away = last_game['away_team']\n",
        "            last_venue = last_game['venue_name']\n",
        "\n",
        "            if (curr_home == last_home) and (curr_away == last_away) and (curr_venue == last_venue): # same series\n",
        "                last_lat = last_game['last_lat_series']\n",
        "                last_lng = last_game['last_lng_series']\n",
        "            else: # new series\n",
        "                last_series_date = last_game['game_date']\n",
        "                last_time_zone = last_game['time_zone']\n",
        "                last_lat = last_game['lat']\n",
        "                last_lng = last_game['lng']\n",
        "\n",
        "            \n",
        "            all_team_games.loc[i, 'last_series_time_zone'] = last_time_zone\n",
        "            \n",
        "            days_since_last_series = curr_game['game_date'] - last_series_date\n",
        "            all_team_games.loc[i, 'time_since_last_series'] = days_since_last_series\n",
        "            \n",
        "            all_team_games.loc[i, 'last_lat_series'] = last_lat\n",
        "            all_team_games.loc[i, 'last_lng_series'] = last_lng    \n",
        "\n",
        "        all_team_games['distance_travelled_series'] = all_team_games.apply(get_haversine_distance_series, axis=1)\n",
        "\n",
        "        team_schedules[team] = all_team_games\n",
        "        "
      ]
    },
    {
      "attachments": {},
      "cell_type": "markdown",
      "metadata": {},
      "source": [
        "## Merge Travel Data to Games"
      ]
    },
    {
      "cell_type": "code",
      "execution_count": 4,
      "metadata": {},
      "outputs": [],
      "source": [
        "runGameJoin = False\n",
        "\n",
        "\n",
        "if runGameJoin:\n",
        "    baseball_sub = baseball_df[baseball_df['year'] > 2000].copy()\n",
        "\n",
        "    home_last_time_zone_list = []\n",
        "    home_time_between_games_list = []\n",
        "    home_time_since_last_series_list = []\n",
        "    home_distance_travelled_game_list = []\n",
        "    home_distance_travelled_series_list = []\n",
        "\n",
        "    away_last_time_zone_list = []\n",
        "    away_time_between_games_list = []\n",
        "    away_time_since_last_series_list = []\n",
        "    away_distance_travelled_game_list = []\n",
        "    away_distance_travelled_series_list = []\n",
        "\n",
        "    for row in tqdm(range(len(baseball_sub))):\n",
        "        # Get home, away, and date\n",
        "        home_team = baseball_sub.iloc[row]['home_team']\n",
        "        away_team = baseball_sub.iloc[row]['away_team']\n",
        "        game_index = baseball_sub.iloc[row]['index']\n",
        "\n",
        "        ## HOME TEAM DATA\n",
        "        home_schedule = team_schedules[home_team]\n",
        "        home_last_time_zone = home_schedule[home_schedule['index'] == game_index]['last_series_time_zone'].reset_index(drop=True).iloc[0]\n",
        "        home_time_between_games = home_schedule[home_schedule['index'] == game_index]['time_between_games'].reset_index(drop=True).iloc[0].days\n",
        "        home_time_since_last_series = home_schedule[home_schedule['index'] == game_index]['time_since_last_series'].reset_index(drop=True).iloc[0].days\n",
        "        home_distance_travelled_game = home_schedule[home_schedule['index'] == game_index]['distance_travelled_game'].reset_index(drop=True).iloc[0]\n",
        "        home_distance_travelled_series = home_schedule[home_schedule['index'] == game_index]['distance_travelled_series'].reset_index(drop=True).iloc[0]\n",
        "        # Home Lists\n",
        "        home_last_time_zone_list.append( home_last_time_zone )\n",
        "        home_time_between_games_list.append( home_time_between_games )\n",
        "        home_time_since_last_series_list.append( home_time_since_last_series )\n",
        "        home_distance_travelled_game_list.append( home_distance_travelled_game )\n",
        "        home_distance_travelled_series_list.append( home_distance_travelled_series )\n",
        "\n",
        "        ## AWAY TEAM DATA\n",
        "        away_schedule = team_schedules[away_team]\n",
        "        away_last_time_zone = away_schedule[away_schedule['index'] == game_index]['last_series_time_zone'].reset_index(drop=True).iloc[0]\n",
        "        away_time_between_games = away_schedule[away_schedule['index'] == game_index]['time_between_games'].reset_index(drop=True).iloc[0].days\n",
        "        away_time_since_last_series = away_schedule[away_schedule['index'] == game_index]['time_since_last_series'].reset_index(drop=True).iloc[0].days\n",
        "        away_distance_travelled_game = away_schedule[away_schedule['index'] == game_index]['distance_travelled_game'].reset_index(drop=True).iloc[0]\n",
        "        away_distance_travelled_series = away_schedule[away_schedule['index'] == game_index]['distance_travelled_series'].reset_index(drop=True).iloc[0]\n",
        "        # Away Lists\n",
        "        away_last_time_zone_list.append( away_last_time_zone )\n",
        "        away_time_between_games_list.append( away_time_between_games )\n",
        "        away_time_since_last_series_list.append (away_time_since_last_series )\n",
        "        away_distance_travelled_game_list.append( away_distance_travelled_game )\n",
        "        away_distance_travelled_series_list.append( away_distance_travelled_series )\n",
        "\n",
        "\n",
        "    # last time zone\n",
        "    baseball_sub['home_last_time_zone'] = home_last_time_zone_list\n",
        "    baseball_sub['away_last_time_zone'] = away_last_time_zone_list\n",
        "\n",
        "    # time between games\n",
        "    baseball_sub['home_time_between_games'] = home_time_between_games_list\n",
        "    baseball_sub['away_time_between_games'] = away_time_between_games_list\n",
        "\n",
        "    # time since last series\n",
        "    baseball_sub['home_time_since_last_series'] = home_time_since_last_series_list\n",
        "    baseball_sub['away_time_since_last_series'] = away_time_since_last_series_list\n",
        "\n",
        "    # distance travelled between games\n",
        "    baseball_sub['home_distance_travelled_game'] = home_distance_travelled_game_list\n",
        "    baseball_sub['away_distance_travelled_game'] = away_distance_travelled_game_list\n",
        "\n",
        "    # distance travelled between series\n",
        "    baseball_sub['home_distance_travelled_series'] = home_distance_travelled_series_list\n",
        "    baseball_sub['away_distance_travelled_series'] = away_distance_travelled_series_list"
      ]
    },
    {
      "attachments": {},
      "cell_type": "markdown",
      "metadata": {},
      "source": [
        "# Download Necessary Data"
      ]
    },
    {
      "attachments": {},
      "cell_type": "markdown",
      "metadata": {},
      "source": [
        "## Re-download Travel Data"
      ]
    },
    {
      "cell_type": "code",
      "execution_count": 10,
      "metadata": {},
      "outputs": [
        {
          "data": {
            "text/html": [
              "<div>\n",
              "<style scoped>\n",
              "    .dataframe tbody tr th:only-of-type {\n",
              "        vertical-align: middle;\n",
              "    }\n",
              "\n",
              "    .dataframe tbody tr th {\n",
              "        vertical-align: top;\n",
              "    }\n",
              "\n",
              "    .dataframe thead th {\n",
              "        text-align: right;\n",
              "    }\n",
              "</style>\n",
              "<table border=\"1\" class=\"dataframe\">\n",
              "  <thead>\n",
              "    <tr style=\"text-align: right;\">\n",
              "      <th></th>\n",
              "      <th>index</th>\n",
              "      <th>game_date</th>\n",
              "      <th>home_team</th>\n",
              "      <th>away_team</th>\n",
              "      <th>is_day_game</th>\n",
              "      <th>home_score</th>\n",
              "      <th>away_score</th>\n",
              "      <th>venue</th>\n",
              "      <th>venue_name</th>\n",
              "      <th>city</th>\n",
              "      <th>...</th>\n",
              "      <th>home_last_time_zone</th>\n",
              "      <th>away_last_time_zone</th>\n",
              "      <th>home_time_between_games</th>\n",
              "      <th>away_time_between_games</th>\n",
              "      <th>home_time_since_last_series</th>\n",
              "      <th>away_time_since_last_series</th>\n",
              "      <th>home_distance_travelled_game</th>\n",
              "      <th>away_distance_travelled_game</th>\n",
              "      <th>home_distance_travelled_series</th>\n",
              "      <th>away_distance_travelled_series</th>\n",
              "    </tr>\n",
              "  </thead>\n",
              "  <tbody>\n",
              "    <tr>\n",
              "      <th>0</th>\n",
              "      <td>2429</td>\n",
              "      <td>2001-04-01</td>\n",
              "      <td>TOR</td>\n",
              "      <td>TEX</td>\n",
              "      <td>True</td>\n",
              "      <td>8</td>\n",
              "      <td>1</td>\n",
              "      <td>SJU01</td>\n",
              "      <td>Estadio Hiram Bithorn</td>\n",
              "      <td>San Juan</td>\n",
              "      <td>...</td>\n",
              "      <td>-5.0</td>\n",
              "      <td>-8.0</td>\n",
              "      <td>182</td>\n",
              "      <td>182.0</td>\n",
              "      <td>182</td>\n",
              "      <td>182.0</td>\n",
              "      <td>2957.191537</td>\n",
              "      <td>5815.094146</td>\n",
              "      <td>2957.191537</td>\n",
              "      <td>5815.094146</td>\n",
              "    </tr>\n",
              "    <tr>\n",
              "      <th>1</th>\n",
              "      <td>2430</td>\n",
              "      <td>2001-04-02</td>\n",
              "      <td>BAL</td>\n",
              "      <td>BOS</td>\n",
              "      <td>True</td>\n",
              "      <td>2</td>\n",
              "      <td>1</td>\n",
              "      <td>BAL12</td>\n",
              "      <td>Oriole Park at Camden Yards</td>\n",
              "      <td>Baltimore</td>\n",
              "      <td>...</td>\n",
              "      <td>-5.0</td>\n",
              "      <td>-5.0</td>\n",
              "      <td>183</td>\n",
              "      <td>183.0</td>\n",
              "      <td>183</td>\n",
              "      <td>183.0</td>\n",
              "      <td>0.000000</td>\n",
              "      <td>1396.336454</td>\n",
              "      <td>0.000000</td>\n",
              "      <td>1396.336454</td>\n",
              "    </tr>\n",
              "    <tr>\n",
              "      <th>2</th>\n",
              "      <td>2431</td>\n",
              "      <td>2001-04-02</td>\n",
              "      <td>CLE</td>\n",
              "      <td>CWS</td>\n",
              "      <td>True</td>\n",
              "      <td>4</td>\n",
              "      <td>7</td>\n",
              "      <td>CLE08</td>\n",
              "      <td>Progressive Field</td>\n",
              "      <td>Cleveland</td>\n",
              "      <td>...</td>\n",
              "      <td>-5.0</td>\n",
              "      <td>-6.0</td>\n",
              "      <td>183</td>\n",
              "      <td>183.0</td>\n",
              "      <td>183</td>\n",
              "      <td>183.0</td>\n",
              "      <td>0.000000</td>\n",
              "      <td>494.028306</td>\n",
              "      <td>0.000000</td>\n",
              "      <td>494.028306</td>\n",
              "    </tr>\n",
              "    <tr>\n",
              "      <th>3</th>\n",
              "      <td>2432</td>\n",
              "      <td>2001-04-02</td>\n",
              "      <td>NYY</td>\n",
              "      <td>KC</td>\n",
              "      <td>True</td>\n",
              "      <td>7</td>\n",
              "      <td>3</td>\n",
              "      <td>NYC16</td>\n",
              "      <td>Yankee Stadium I</td>\n",
              "      <td>New York</td>\n",
              "      <td>...</td>\n",
              "      <td>-5.0</td>\n",
              "      <td>-6.0</td>\n",
              "      <td>183</td>\n",
              "      <td>183.0</td>\n",
              "      <td>183</td>\n",
              "      <td>183.0</td>\n",
              "      <td>272.552421</td>\n",
              "      <td>1143.759125</td>\n",
              "      <td>272.552421</td>\n",
              "      <td>1143.759125</td>\n",
              "    </tr>\n",
              "    <tr>\n",
              "      <th>4</th>\n",
              "      <td>2433</td>\n",
              "      <td>2001-04-02</td>\n",
              "      <td>SEA</td>\n",
              "      <td>OAK</td>\n",
              "      <td>False</td>\n",
              "      <td>5</td>\n",
              "      <td>4</td>\n",
              "      <td>SEA03</td>\n",
              "      <td>Safeco Field</td>\n",
              "      <td>Seattle</td>\n",
              "      <td>...</td>\n",
              "      <td>-8.0</td>\n",
              "      <td>-8.0</td>\n",
              "      <td>183</td>\n",
              "      <td>183.0</td>\n",
              "      <td>183</td>\n",
              "      <td>183.0</td>\n",
              "      <td>1575.035287</td>\n",
              "      <td>1089.912340</td>\n",
              "      <td>1575.035287</td>\n",
              "      <td>1089.912340</td>\n",
              "    </tr>\n",
              "    <tr>\n",
              "      <th>...</th>\n",
              "      <td>...</td>\n",
              "      <td>...</td>\n",
              "      <td>...</td>\n",
              "      <td>...</td>\n",
              "      <td>...</td>\n",
              "      <td>...</td>\n",
              "      <td>...</td>\n",
              "      <td>...</td>\n",
              "      <td>...</td>\n",
              "      <td>...</td>\n",
              "      <td>...</td>\n",
              "      <td>...</td>\n",
              "      <td>...</td>\n",
              "      <td>...</td>\n",
              "      <td>...</td>\n",
              "      <td>...</td>\n",
              "      <td>...</td>\n",
              "      <td>...</td>\n",
              "      <td>...</td>\n",
              "      <td>...</td>\n",
              "      <td>...</td>\n",
              "    </tr>\n",
              "    <tr>\n",
              "      <th>54341</th>\n",
              "      <td>56770</td>\n",
              "      <td>2023-10-01</td>\n",
              "      <td>CWS</td>\n",
              "      <td>SD</td>\n",
              "      <td>True</td>\n",
              "      <td>1</td>\n",
              "      <td>2</td>\n",
              "      <td>CHI12</td>\n",
              "      <td>Guaranteed Rate Field;U.S. Cellular Field</td>\n",
              "      <td>Chicago</td>\n",
              "      <td>...</td>\n",
              "      <td>-6.0</td>\n",
              "      <td>-8.0</td>\n",
              "      <td>1</td>\n",
              "      <td>1.0</td>\n",
              "      <td>3</td>\n",
              "      <td>4.0</td>\n",
              "      <td>0.000000</td>\n",
              "      <td>0.000000</td>\n",
              "      <td>0.000000</td>\n",
              "      <td>2986.457169</td>\n",
              "    </tr>\n",
              "    <tr>\n",
              "      <th>54342</th>\n",
              "      <td>56771</td>\n",
              "      <td>2023-10-01</td>\n",
              "      <td>DET</td>\n",
              "      <td>CLE</td>\n",
              "      <td>True</td>\n",
              "      <td>5</td>\n",
              "      <td>2</td>\n",
              "      <td>DET05</td>\n",
              "      <td>Comerica Park</td>\n",
              "      <td>Detroit</td>\n",
              "      <td>...</td>\n",
              "      <td>-5.0</td>\n",
              "      <td>-5.0</td>\n",
              "      <td>1</td>\n",
              "      <td>1.0</td>\n",
              "      <td>3</td>\n",
              "      <td>4.0</td>\n",
              "      <td>0.000000</td>\n",
              "      <td>0.000000</td>\n",
              "      <td>0.000000</td>\n",
              "      <td>145.132345</td>\n",
              "    </tr>\n",
              "    <tr>\n",
              "      <th>54343</th>\n",
              "      <td>56772</td>\n",
              "      <td>2023-10-01</td>\n",
              "      <td>KC</td>\n",
              "      <td>NYY</td>\n",
              "      <td>True</td>\n",
              "      <td>5</td>\n",
              "      <td>2</td>\n",
              "      <td>KAN06</td>\n",
              "      <td>Kauffman Stadium</td>\n",
              "      <td>Kansas City</td>\n",
              "      <td>...</td>\n",
              "      <td>-5.0</td>\n",
              "      <td>-5.0</td>\n",
              "      <td>1</td>\n",
              "      <td>1.0</td>\n",
              "      <td>3</td>\n",
              "      <td>3.0</td>\n",
              "      <td>0.000000</td>\n",
              "      <td>0.000000</td>\n",
              "      <td>1042.655277</td>\n",
              "      <td>1369.898836</td>\n",
              "    </tr>\n",
              "    <tr>\n",
              "      <th>54344</th>\n",
              "      <td>56773</td>\n",
              "      <td>2023-10-01</td>\n",
              "      <td>SEA</td>\n",
              "      <td>TEX</td>\n",
              "      <td>True</td>\n",
              "      <td>1</td>\n",
              "      <td>0</td>\n",
              "      <td>SEA03</td>\n",
              "      <td>Safeco Field</td>\n",
              "      <td>Seattle</td>\n",
              "      <td>...</td>\n",
              "      <td>-8.0</td>\n",
              "      <td>-8.0</td>\n",
              "      <td>1</td>\n",
              "      <td>1.0</td>\n",
              "      <td>4</td>\n",
              "      <td>4.0</td>\n",
              "      <td>0.000000</td>\n",
              "      <td>0.000000</td>\n",
              "      <td>0.000000</td>\n",
              "      <td>1575.035287</td>\n",
              "    </tr>\n",
              "    <tr>\n",
              "      <th>54345</th>\n",
              "      <td>56774</td>\n",
              "      <td>2023-10-01</td>\n",
              "      <td>TOR</td>\n",
              "      <td>TB</td>\n",
              "      <td>True</td>\n",
              "      <td>8</td>\n",
              "      <td>12</td>\n",
              "      <td>TOR02</td>\n",
              "      <td>Rogers Centre</td>\n",
              "      <td>Toronto</td>\n",
              "      <td>...</td>\n",
              "      <td>-5.0</td>\n",
              "      <td>-5.0</td>\n",
              "      <td>1</td>\n",
              "      <td>1.0</td>\n",
              "      <td>3</td>\n",
              "      <td>4.0</td>\n",
              "      <td>0.000000</td>\n",
              "      <td>0.000000</td>\n",
              "      <td>0.000000</td>\n",
              "      <td>691.779268</td>\n",
              "    </tr>\n",
              "  </tbody>\n",
              "</table>\n",
              "<p>54346 rows × 44 columns</p>\n",
              "</div>"
            ],
            "text/plain": [
              "       index   game_date home_team away_team  is_day_game  home_score  \\\n",
              "0       2429  2001-04-01       TOR       TEX         True           8   \n",
              "1       2430  2001-04-02       BAL       BOS         True           2   \n",
              "2       2431  2001-04-02       CLE       CWS         True           4   \n",
              "3       2432  2001-04-02       NYY        KC         True           7   \n",
              "4       2433  2001-04-02       SEA       OAK        False           5   \n",
              "...      ...         ...       ...       ...          ...         ...   \n",
              "54341  56770  2023-10-01       CWS        SD         True           1   \n",
              "54342  56771  2023-10-01       DET       CLE         True           5   \n",
              "54343  56772  2023-10-01        KC       NYY         True           5   \n",
              "54344  56773  2023-10-01       SEA       TEX         True           1   \n",
              "54345  56774  2023-10-01       TOR        TB         True           8   \n",
              "\n",
              "       away_score  venue                                 venue_name  \\\n",
              "0               1  SJU01                      Estadio Hiram Bithorn   \n",
              "1               1  BAL12                Oriole Park at Camden Yards   \n",
              "2               7  CLE08                          Progressive Field   \n",
              "3               3  NYC16                           Yankee Stadium I   \n",
              "4               4  SEA03                               Safeco Field   \n",
              "...           ...    ...                                        ...   \n",
              "54341           2  CHI12  Guaranteed Rate Field;U.S. Cellular Field   \n",
              "54342           2  DET05                              Comerica Park   \n",
              "54343           2  KAN06                           Kauffman Stadium   \n",
              "54344           0  SEA03                               Safeco Field   \n",
              "54345          12  TOR02                              Rogers Centre   \n",
              "\n",
              "              city  ... home_last_time_zone  away_last_time_zone  \\\n",
              "0         San Juan  ...                -5.0                 -8.0   \n",
              "1        Baltimore  ...                -5.0                 -5.0   \n",
              "2        Cleveland  ...                -5.0                 -6.0   \n",
              "3         New York  ...                -5.0                 -6.0   \n",
              "4          Seattle  ...                -8.0                 -8.0   \n",
              "...            ...  ...                 ...                  ...   \n",
              "54341      Chicago  ...                -6.0                 -8.0   \n",
              "54342      Detroit  ...                -5.0                 -5.0   \n",
              "54343  Kansas City  ...                -5.0                 -5.0   \n",
              "54344      Seattle  ...                -8.0                 -8.0   \n",
              "54345      Toronto  ...                -5.0                 -5.0   \n",
              "\n",
              "       home_time_between_games  away_time_between_games  \\\n",
              "0                          182                    182.0   \n",
              "1                          183                    183.0   \n",
              "2                          183                    183.0   \n",
              "3                          183                    183.0   \n",
              "4                          183                    183.0   \n",
              "...                        ...                      ...   \n",
              "54341                        1                      1.0   \n",
              "54342                        1                      1.0   \n",
              "54343                        1                      1.0   \n",
              "54344                        1                      1.0   \n",
              "54345                        1                      1.0   \n",
              "\n",
              "       home_time_since_last_series  away_time_since_last_series  \\\n",
              "0                              182                        182.0   \n",
              "1                              183                        183.0   \n",
              "2                              183                        183.0   \n",
              "3                              183                        183.0   \n",
              "4                              183                        183.0   \n",
              "...                            ...                          ...   \n",
              "54341                            3                          4.0   \n",
              "54342                            3                          4.0   \n",
              "54343                            3                          3.0   \n",
              "54344                            4                          4.0   \n",
              "54345                            3                          4.0   \n",
              "\n",
              "       home_distance_travelled_game  away_distance_travelled_game  \\\n",
              "0                       2957.191537                   5815.094146   \n",
              "1                          0.000000                   1396.336454   \n",
              "2                          0.000000                    494.028306   \n",
              "3                        272.552421                   1143.759125   \n",
              "4                       1575.035287                   1089.912340   \n",
              "...                             ...                           ...   \n",
              "54341                      0.000000                      0.000000   \n",
              "54342                      0.000000                      0.000000   \n",
              "54343                      0.000000                      0.000000   \n",
              "54344                      0.000000                      0.000000   \n",
              "54345                      0.000000                      0.000000   \n",
              "\n",
              "       home_distance_travelled_series  away_distance_travelled_series  \n",
              "0                         2957.191537                     5815.094146  \n",
              "1                            0.000000                     1396.336454  \n",
              "2                            0.000000                      494.028306  \n",
              "3                          272.552421                     1143.759125  \n",
              "4                         1575.035287                     1089.912340  \n",
              "...                               ...                             ...  \n",
              "54341                        0.000000                     2986.457169  \n",
              "54342                        0.000000                      145.132345  \n",
              "54343                     1042.655277                     1369.898836  \n",
              "54344                        0.000000                     1575.035287  \n",
              "54345                        0.000000                      691.779268  \n",
              "\n",
              "[54346 rows x 44 columns]"
            ]
          },
          "execution_count": 10,
          "metadata": {},
          "output_type": "execute_result"
        }
      ],
      "source": [
        "baseball_path = r'/Users/willmiraglia/Desktop/Datathon 2024/datathon2024_data_w_dist.csv'\n",
        "baseball_df = pd.read_csv(baseball_path)\n",
        "baseball_df"
      ]
    },
    {
      "attachments": {},
      "cell_type": "markdown",
      "metadata": {},
      "source": [
        "## Add Odds Data and Join with Travel Data"
      ]
    },
    {
      "attachments": {},
      "cell_type": "markdown",
      "metadata": {},
      "source": [
        "## Add Odds Data"
      ]
    },
    {
      "cell_type": "code",
      "execution_count": 532,
      "metadata": {},
      "outputs": [],
      "source": [
        "odds_path = r'/Users/willmiraglia/Desktop/Datathon 2024/Odds/Full_Odds.csv'\n",
        "odds_df = pd.read_csv(odds_path)\n",
        "\n",
        "full_datathon_df = pd.merge(baseball_df, odds_df, on=['game_date', 'home_team', 'away_team', 'home_score', 'away_score']).dropna()\n",
        "full_datathon_df.to_csv(r'/Users/willmiraglia/Desktop/Datathon 2024/datathon2024_FULL.csv')\n",
        "full_datathon_df = full_datathon_df.drop(['home_so', 'away_so'], axis=1)"
      ]
    },
    {
      "attachments": {},
      "cell_type": "markdown",
      "metadata": {},
      "source": [
        "### Quick Linear Regression Showing that Odds perform extremely well"
      ]
    },
    {
      "cell_type": "code",
      "execution_count": 549,
      "metadata": {},
      "outputs": [
        {
          "name": "stdout",
          "output_type": "stream",
          "text": [
            "Coefficient:  1.0299\n"
          ]
        },
        {
          "data": {
            "text/html": [
              "<div>\n",
              "<style scoped>\n",
              "    .dataframe tbody tr th:only-of-type {\n",
              "        vertical-align: middle;\n",
              "    }\n",
              "\n",
              "    .dataframe tbody tr th {\n",
              "        vertical-align: top;\n",
              "    }\n",
              "\n",
              "    .dataframe thead th {\n",
              "        text-align: right;\n",
              "    }\n",
              "</style>\n",
              "<table border=\"1\" class=\"dataframe\">\n",
              "  <thead>\n",
              "    <tr style=\"text-align: right;\">\n",
              "      <th></th>\n",
              "      <th>Odds</th>\n",
              "      <th>Predictions</th>\n",
              "    </tr>\n",
              "  </thead>\n",
              "  <tbody>\n",
              "    <tr>\n",
              "      <th>6611</th>\n",
              "      <td>0.564</td>\n",
              "      <td>0.564</td>\n",
              "    </tr>\n",
              "    <tr>\n",
              "      <th>18719</th>\n",
              "      <td>0.513</td>\n",
              "      <td>0.511</td>\n",
              "    </tr>\n",
              "    <tr>\n",
              "      <th>3433</th>\n",
              "      <td>0.558</td>\n",
              "      <td>0.558</td>\n",
              "    </tr>\n",
              "    <tr>\n",
              "      <th>953</th>\n",
              "      <td>0.511</td>\n",
              "      <td>0.509</td>\n",
              "    </tr>\n",
              "    <tr>\n",
              "      <th>3271</th>\n",
              "      <td>0.515</td>\n",
              "      <td>0.513</td>\n",
              "    </tr>\n",
              "    <tr>\n",
              "      <th>...</th>\n",
              "      <td>...</td>\n",
              "      <td>...</td>\n",
              "    </tr>\n",
              "    <tr>\n",
              "      <th>10560</th>\n",
              "      <td>0.450</td>\n",
              "      <td>0.447</td>\n",
              "    </tr>\n",
              "    <tr>\n",
              "      <th>22029</th>\n",
              "      <td>0.632</td>\n",
              "      <td>0.634</td>\n",
              "    </tr>\n",
              "    <tr>\n",
              "      <th>24824</th>\n",
              "      <td>0.661</td>\n",
              "      <td>0.664</td>\n",
              "    </tr>\n",
              "    <tr>\n",
              "      <th>9643</th>\n",
              "      <td>0.580</td>\n",
              "      <td>0.580</td>\n",
              "    </tr>\n",
              "    <tr>\n",
              "      <th>1987</th>\n",
              "      <td>0.486</td>\n",
              "      <td>0.484</td>\n",
              "    </tr>\n",
              "  </tbody>\n",
              "</table>\n",
              "<p>6105 rows × 2 columns</p>\n",
              "</div>"
            ],
            "text/plain": [
              "        Odds  Predictions\n",
              "6611   0.564        0.564\n",
              "18719  0.513        0.511\n",
              "3433   0.558        0.558\n",
              "953    0.511        0.509\n",
              "3271   0.515        0.513\n",
              "...      ...          ...\n",
              "10560  0.450        0.447\n",
              "22029  0.632        0.634\n",
              "24824  0.661        0.664\n",
              "9643   0.580        0.580\n",
              "1987   0.486        0.484\n",
              "\n",
              "[6105 rows x 2 columns]"
            ]
          },
          "execution_count": 549,
          "metadata": {},
          "output_type": "execute_result"
        }
      ],
      "source": [
        "odds_reg_df = full_datathon_df[['home_odds', 'home_win']]\n",
        "\n",
        "X = odds_reg_df[['home_odds']]\n",
        "y = odds_reg_df['home_win']\n",
        "\n",
        "# split to train and test\n",
        "X_train, X_test, y_train, y_test = train_test_split(X, y, test_size=0.2, random_state=1)\n",
        "\n",
        "# linear regression\n",
        "model = LinearRegression()\n",
        "\n",
        "# fit model\n",
        "model.fit(X_train, y_train)\n",
        "\n",
        "print(\"Coefficient: \", round(model.coef_[0], 4))\n",
        "\n",
        "y_pred = model.predict(X_test)\n",
        "\n",
        "pd.DataFrame({'Odds': X_test['home_odds'].round(3), 'Predictions': y_pred.round(3)})\n",
        "\n"
      ]
    },
    {
      "attachments": {},
      "cell_type": "markdown",
      "metadata": {},
      "source": [
        "## Add Pitcher Data"
      ]
    },
    {
      "cell_type": "code",
      "execution_count": 355,
      "metadata": {},
      "outputs": [],
      "source": [
        "pitcher_path = r'/Users/willmiraglia/Desktop/Datathon 2024/pitcher_info.csv'\n",
        "pitcher_df = pd.read_csv(pitcher_path).iloc[:,1:]\n",
        "pitcher_df['year'] = pd.to_datetime(pitcher_df['game_date']).dt.year\n",
        "pitcher_df = pitcher_df[['game_date', 'home_team', 'away_team', 'home_pitcher', 'away_pitcher', \n",
        "                          'home_earned_runs', 'away_earned_runs', 'home_so', 'away_so']]\n",
        "pitcher_df['home_pitcher'] = pitcher_df['home_pitcher'].replace(0, np.nan)\n",
        "pitcher_df['away_pitcher'] = pitcher_df['away_pitcher'].replace(0, np.nan)\n",
        "\n",
        "full_datathon_df = pd.merge(full_datathon_df, pitcher_df, on=['game_date', 'home_team', 'away_team'], how='left').dropna()"
      ]
    },
    {
      "attachments": {},
      "cell_type": "markdown",
      "metadata": {},
      "source": [
        "### Pitcher Stats Callable Dictionary"
      ]
    },
    {
      "cell_type": "code",
      "execution_count": 356,
      "metadata": {},
      "outputs": [
        {
          "name": "stdout",
          "output_type": "stream",
          "text": [
            "1419\n"
          ]
        }
      ],
      "source": [
        "unique_pitchers = pd.unique(pd.concat([full_datathon_df['home_pitcher'], full_datathon_df['away_pitcher']]))\n",
        "pitcher_schedules = {}\n",
        "print(len(unique_pitchers))\n",
        "\n",
        "for pitcher in unique_pitchers:\n",
        "    all_pitcher_games = full_datathon_df[(full_datathon_df['home_pitcher'] == pitcher) | (full_datathon_df['away_pitcher'] == pitcher)]\n",
        "    \n",
        "    all_pitcher_games = all_pitcher_games.sort_values(by='game_date', ascending=True).reset_index(drop=True)\n",
        "    unique_years = pd.unique(all_pitcher_games['year'])\n",
        "    year_to_games = {}\n",
        "    for year in unique_years:\n",
        "        if year == 2020:\n",
        "            continue\n",
        "        pitcher_year_df = all_pitcher_games[all_pitcher_games['year'] == year].copy()\n",
        "\n",
        "        pitch_summaries = []\n",
        "\n",
        "        pitcher_year_df['game_date'] = pd.to_datetime(pitcher_year_df['game_date']).dt.date\n",
        "        pitcher_half1 = pitcher_year_df[pitcher_year_df['game_date'] <= pd.to_datetime(f'{year}-06-30').date()]\n",
        "\n",
        "        for row in range(len(pitcher_half1)):\n",
        "            game = pd.DataFrame(pitcher_half1.iloc[row]).T.reset_index(drop=True)\n",
        "            if game.iloc[0]['home_pitcher'] == pitcher:\n",
        "                home_pitcher_dict = {\n",
        "                    'game_date': 'game_date', \n",
        "                    'home_earned_runs': 'earned_runs',\n",
        "                    'home_so': 'strikeouts'\n",
        "                }\n",
        "                game = game.rename(columns=home_pitcher_dict)\n",
        "                pitch_summary = game[home_pitcher_dict.values()]\n",
        "\n",
        "            elif game.iloc[0]['away_pitcher'] == pitcher:\n",
        "                away_pitcher_dict = {\n",
        "                    'game_date': 'game_date', \n",
        "                    'away_earned_runs': 'earned_runs',\n",
        "                    'away_so': 'strikeouts'\n",
        "                }\n",
        "                game = game.rename(columns=away_pitcher_dict)\n",
        "                pitch_summary = game[away_pitcher_dict.values()]\n",
        "            else:\n",
        "                raise KeyError\n",
        "\n",
        "            pitch_summaries.append(pitch_summary)\n",
        "\n",
        "        if len(pitch_summaries) != 0:\n",
        "            pitch_stats_df = pd.concat(pitch_summaries)\n",
        "            pitch_stat_dict = {\n",
        "                'avg_ER': pitch_stats_df['earned_runs'].mean(),\n",
        "                'avg_SO': pitch_stats_df['strikeouts'].mean()\n",
        "            }\n",
        "        else:\n",
        "            pitch_stat_dict = {\n",
        "                'avg_ER': np.nan,\n",
        "                'avg_SO': np.nan                \n",
        "            }\n",
        "\n",
        "\n",
        "        year_to_games[year] = pitch_stat_dict\n",
        "\n",
        "    pitcher_schedules[pitcher] = year_to_games"
      ]
    },
    {
      "attachments": {},
      "cell_type": "markdown",
      "metadata": {},
      "source": [
        "### Make dictionary of team to season and season to schedule"
      ]
    },
    {
      "cell_type": "code",
      "execution_count": 357,
      "metadata": {},
      "outputs": [],
      "source": [
        "# this dictionary goes team to year to yearly schedule\n",
        "team_schedules = {}\n",
        "unique_teams = pd.unique(pd.concat([full_datathon_df['home_team'], full_datathon_df['away_team']]))\n",
        "\n",
        "for team in unique_teams:\n",
        "    all_team_games = full_datathon_df[(full_datathon_df['home_team'] == team) | (full_datathon_df['away_team'] == team)]\n",
        "    all_team_games = all_team_games.sort_values(by='game_date', ascending=True).reset_index(drop=True)\n",
        "    unique_years = pd.unique(all_team_games['year'])\n",
        "    year_to_schedule = {}\n",
        "    for year in unique_years:\n",
        "        if year == 2020:\n",
        "            continue\n",
        "        team_year_df = all_team_games[all_team_games['year'] == year]\n",
        "        year_to_schedule[year] = team_year_df\n",
        "    team_schedules[team] = year_to_schedule\n"
      ]
    },
    {
      "attachments": {},
      "cell_type": "markdown",
      "metadata": {},
      "source": [
        "### Create Year to Season Callable Dictionary"
      ]
    },
    {
      "cell_type": "code",
      "execution_count": 484,
      "metadata": {},
      "outputs": [],
      "source": [
        "# this schedule goes year to season\n",
        "year_to_season = {}\n",
        "\n",
        "unique_years = pd.unique(full_datathon_df['year'])\n",
        "for year in unique_years:\n",
        "    if year == 2020:\n",
        "        continue\n",
        "\n",
        "    season_df = full_datathon_df[full_datathon_df['year'] == year][['game_date', 'home_team', 'away_team', \n",
        "                                                                    'home_pitcher', 'away_pitcher',\n",
        "                                                                    'home_score', 'away_score',\n",
        "                                                                    'time_zone', 'home_last_time_zone', 'away_last_time_zone', \n",
        "                                                                    'home_time_between_games', 'away_time_between_games', \n",
        "                                                                    'home_time_since_last_series', 'away_time_since_last_series', \n",
        "                                                                    'home_distance_travelled_series', 'away_distance_travelled_series', \n",
        "                                                                    'home_distance_travelled_game', 'away_distance_travelled_game', \n",
        "                                                                    'home_odds', 'away_odds', 'home_win']]\n",
        "    year_to_season[year] = season_df\n"
      ]
    },
    {
      "attachments": {},
      "cell_type": "markdown",
      "metadata": {},
      "source": [
        "### Full Team Summary Stats Callable Dictionary (team to year to stats)"
      ]
    },
    {
      "cell_type": "code",
      "execution_count": 359,
      "metadata": {},
      "outputs": [],
      "source": [
        "team_summary_stats = {}\n",
        "\n",
        "for team in team_schedules.keys():\n",
        "\n",
        "    year_to_half1 = {}\n",
        "    \n",
        "    for year in team_schedules[team].keys():\n",
        "        game_summaries = []\n",
        "\n",
        "        team_schedule = team_schedules[team][year].reset_index(drop=True)\n",
        "        team_schedule['game_date'] = pd.to_datetime(team_schedule['game_date']).dt.date\n",
        "        team_half1 = team_schedule[team_schedule['game_date'] <= pd.to_datetime(f'{year}-06-30').date()]\n",
        "\n",
        "        for row in range(len(team_half1)):\n",
        "            game = pd.DataFrame(team_half1.iloc[row]).T.reset_index(drop=True)\n",
        "            if game.iloc[0]['home_team'] == team:\n",
        "                home_team_dict = {\n",
        "                    'game_date': 'game_date', \n",
        "                    'home_team': 'home_team',\n",
        "                    'away_team': 'away_team',\n",
        "                    'home_score': 'runs_scored',\n",
        "                    'away_score': 'runs_allowed',\n",
        "                    'away_pa': 'allowed_pa',\n",
        "                    'away_1b': 'allowed_1b',\n",
        "                    'away_2b': 'allowed_2b',\n",
        "                    'away_3b': 'allowed_3b', \n",
        "                    'away_hr': 'allowed_hr',\n",
        "                    'away_bb': 'allowed_bb',\n",
        "                    'home_pa': 'team_pa',\n",
        "                    'home_1b': 'team_1b',\n",
        "                    'home_2b': 'team_2b',\n",
        "                    'home_3b': 'team_3b', \n",
        "                    'home_hr': 'team_hr',\n",
        "                    'home_bb': 'team_bb',\n",
        "                }\n",
        "                game = game.rename(columns=home_team_dict)\n",
        "                game_summary = game[home_team_dict.values()]\n",
        "                \n",
        "            elif game.iloc[0]['away_team'] == team:\n",
        "                away_team_dict = {\n",
        "                    'game_date': 'game_date', \n",
        "                    'home_team': 'home_team',\n",
        "                    'away_team': 'away_team',\n",
        "                    'home_score': 'runs_allowed',\n",
        "                    'away_score': 'runs_scored',\n",
        "                    'away_pa': 'team_pa',\n",
        "                    'away_1b': 'team_1b',\n",
        "                    'away_2b': 'team_2b',\n",
        "                    'away_3b': 'team_3b', \n",
        "                    'away_hr': 'team_hr',\n",
        "                    'away_bb': 'team_bb',\n",
        "                    'home_pa': 'allowed_pa',\n",
        "                    'home_1b': 'allowed_1b',\n",
        "                    'home_2b': 'allowed_2b',\n",
        "                    'home_3b': 'allowed_3b', \n",
        "                    'home_hr': 'allowed_hr',\n",
        "                    'home_bb': 'allowed_bb',\n",
        "                }\n",
        "                game = game.rename(columns=away_team_dict)\n",
        "                game_summary = game[away_team_dict.values()]\n",
        "            else:\n",
        "                raise KeyError\n",
        "\n",
        "            game_summaries.append(game_summary)\n",
        "\n",
        "        half1_game_summaries = pd.concat(game_summaries)\n",
        "\n",
        "        half1_game_summaries['allowed_hits'] = (\n",
        "            half1_game_summaries['allowed_1b'] + \n",
        "            half1_game_summaries['allowed_2b'] + \n",
        "            half1_game_summaries['allowed_3b'] + \n",
        "            half1_game_summaries['allowed_hr']\n",
        "        )\n",
        "\n",
        "        half1_game_summaries['team_hits'] = (\n",
        "            half1_game_summaries['team_1b'] + \n",
        "            half1_game_summaries['team_2b'] + \n",
        "            half1_game_summaries['team_3b'] + \n",
        "            half1_game_summaries['team_hr']   \n",
        "        )\n",
        "\n",
        "        half1_game_summaries['allowed_batting_avg'] = half1_game_summaries['allowed_hits'] / (half1_game_summaries['allowed_pa'] - half1_game_summaries['allowed_bb'])\n",
        "        half1_game_summaries['team_batting_avg'] = half1_game_summaries['team_hits'] / (half1_game_summaries['team_pa'] - half1_game_summaries['team_bb'])\n",
        "\n",
        "        half1_dict = {\n",
        "            'team_BA': half1_game_summaries['team_batting_avg'].mean(),\n",
        "            'allowed_BA': half1_game_summaries['allowed_batting_avg'].mean(), \n",
        "            'team_avg_HR': half1_game_summaries['team_hr'].mean(),\n",
        "            'allowed_avg_HR': half1_game_summaries['allowed_hr'].mean(), \n",
        "            'avg_runs_scored': half1_game_summaries['runs_scored'].mean(),\n",
        "            'avg_runs_allowed': half1_game_summaries['runs_allowed'].mean()\n",
        "        }\n",
        "        year_to_half1[year] = half1_dict\n",
        "    \n",
        "    team_summary_stats[team] = year_to_half1\n"
      ]
    },
    {
      "attachments": {},
      "cell_type": "markdown",
      "metadata": {},
      "source": [
        "### Create Year to Regression Dataframes"
      ]
    },
    {
      "cell_type": "code",
      "execution_count": 486,
      "metadata": {},
      "outputs": [],
      "source": [
        "reg_half2_dict = {}\n",
        "\n",
        "for year in year_to_season.keys():\n",
        "    \n",
        "    season_df = year_to_season[year]\n",
        "    season_df['game_date'] = pd.to_datetime(season_df['game_date']).dt.date\n",
        "    season_half2 = season_df[season_df['game_date'] > pd.to_datetime(f'{year}-06-30').date()].copy().reset_index(drop=True)\n",
        "\n",
        "\n",
        "    home_team_BA = []\n",
        "    home_allowed_BA = []\n",
        "    home_team_avg_HR = []\n",
        "    home_allowed_avg_HR = []\n",
        "    home_avg_runs_scored = []\n",
        "    home_avg_runs_allowed = []\n",
        "    home_pitcher_avg_ER = []\n",
        "    home_pitcher_avg_SO = []\n",
        "\n",
        "    away_team_BA = []\n",
        "    away_allowed_BA = []\n",
        "    away_team_avg_HR = []\n",
        "    away_allowed_avg_HR = []\n",
        "    away_avg_runs_scored = []\n",
        "    away_avg_runs_allowed = []\n",
        "    away_pitcher_avg_ER = []\n",
        "    away_pitcher_avg_SO = []\n",
        "\n",
        "\n",
        "    for row in range(len(season_half2)):\n",
        "        home_team = season_half2.loc[row, 'home_team']\n",
        "        home_stats = team_summary_stats[home_team][year]\n",
        "        \n",
        "        home_pitcher = season_half2.loc[row, 'home_pitcher']\n",
        "        home_pitcher_stats = pitcher_schedules[home_pitcher][year]\n",
        "\n",
        "        home_team_BA.append( home_stats['team_BA'] )\n",
        "        home_allowed_BA.append( home_stats['allowed_BA'])\n",
        "        home_team_avg_HR.append( home_stats['team_avg_HR'])\n",
        "        home_allowed_avg_HR.append( home_stats['allowed_avg_HR'] )\n",
        "        home_avg_runs_scored.append( home_stats['avg_runs_scored'])\n",
        "        home_avg_runs_allowed.append( home_stats['avg_runs_allowed'])\n",
        "        home_pitcher_avg_ER.append( home_pitcher_stats['avg_ER'] )\n",
        "        home_pitcher_avg_SO.append( home_pitcher_stats['avg_SO'])\n",
        "\n",
        "        away_team = season_half2.loc[row, 'away_team']\n",
        "        away_stats = team_summary_stats[away_team][year]\n",
        "\n",
        "        away_pitcher = season_half2.loc[row, 'away_pitcher']\n",
        "        away_pitcher_stats = pitcher_schedules[away_pitcher][year]\n",
        "\n",
        "        away_team_BA.append( away_stats['team_BA'] )\n",
        "        away_allowed_BA.append( away_stats['allowed_BA'])\n",
        "        away_team_avg_HR.append( away_stats['team_avg_HR'])\n",
        "        away_allowed_avg_HR.append( away_stats['allowed_avg_HR'] )\n",
        "        away_avg_runs_scored.append( away_stats['avg_runs_scored'])\n",
        "        away_avg_runs_allowed.append( away_stats['avg_runs_allowed'])\n",
        "        away_pitcher_avg_ER.append( away_pitcher_stats['avg_ER'] )\n",
        "        away_pitcher_avg_SO.append( away_pitcher_stats['avg_SO'])\n",
        "\n",
        "    season_half2['home_team_BA'] = home_team_BA\n",
        "    season_half2['home_allowed_BA'] = home_allowed_BA\n",
        "    season_half2['home_team_avg_HR'] = home_team_avg_HR\n",
        "    season_half2['home_allowed_avg_HR'] = home_allowed_avg_HR\n",
        "    season_half2['home_avg_runs_scored'] = home_avg_runs_scored\n",
        "    season_half2['home_avg_runs_allowed'] = home_avg_runs_allowed\n",
        "    season_half2['home_avg_ER'] = home_pitcher_avg_ER\n",
        "    season_half2['home_avg_SO'] = home_pitcher_avg_SO\n",
        "\n",
        "    season_half2['away_team_BA'] = away_team_BA\n",
        "    season_half2['away_allowed_BA'] = away_allowed_BA\n",
        "    season_half2['away_team_avg_HR'] = away_team_avg_HR\n",
        "    season_half2['away_allowed_avg_HR'] = away_allowed_avg_HR\n",
        "    season_half2['away_avg_runs_scored'] = away_avg_runs_scored\n",
        "    season_half2['away_avg_runs_allowed'] = away_avg_runs_allowed\n",
        "    season_half2['away_avg_ER'] = away_pitcher_avg_ER\n",
        "    season_half2['away_avg_SO'] = away_pitcher_avg_SO\n",
        "\n",
        "    reg_half2_dict[year] = season_half2\n",
        "\n",
        "\n"
      ]
    },
    {
      "attachments": {},
      "cell_type": "markdown",
      "metadata": {},
      "source": [
        "# Predict Odds"
      ]
    },
    {
      "attachments": {},
      "cell_type": "markdown",
      "metadata": {},
      "source": [
        "## Predicting Percent Chance of Win using Baseball Stats"
      ]
    },
    {
      "attachments": {},
      "cell_type": "markdown",
      "metadata": {},
      "source": [
        "### Feature Importance"
      ]
    },
    {
      "cell_type": "code",
      "execution_count": 504,
      "metadata": {},
      "outputs": [],
      "source": [
        "def run_random_forest_feature_importance(year, regressors):\n",
        "    reg_data = reg_half2_dict[year].dropna().copy()\n",
        "\n",
        "    reg_data['home_time_zone_change'] = abs(reg_data['home_last_time_zone'] - reg_data['time_zone'])\n",
        "    reg_data['away_time_zone_change'] = abs(reg_data['away_last_time_zone'] - reg_data['time_zone'])\n",
        "    reg_data['home_time_zone_advantage'] = reg_data['home_time_zone_change'] - reg_data['away_time_zone_change']\n",
        "    reg_data['home_travel_advantage'] = reg_data['home_distance_travelled_series'] - reg_data['away_distance_travelled_series']\n",
        "\n",
        "    X = reg_data[regressors]\n",
        "    y = reg_data['home_odds']\n",
        "\n",
        "    # split into train and test data\n",
        "    X_train, X_test, y_train, y_test = train_test_split(X, y, test_size=0.2, random_state=1)\n",
        "\n",
        "    # random forest model\n",
        "    rf_model = RandomForestRegressor(n_estimators=50, random_state=1)\n",
        "\n",
        "    # fit model\n",
        "    rf_model.fit(X_train, y_train)\n",
        "\n",
        "    # feature importance dataframe\n",
        "    feature_importance = pd.DataFrame({\n",
        "        'Feature': X.columns,\n",
        "        f'Importance_{year}': rf_model.feature_importances_\n",
        "    })\n",
        "    \n",
        "    return feature_importance\n"
      ]
    },
    {
      "cell_type": "code",
      "execution_count": 505,
      "metadata": {},
      "outputs": [],
      "source": [
        "def get_mean_feature_importance(all_cols):\n",
        "\n",
        "    FI_dfs = []\n",
        "    for year in reg_half2_dict.keys():\n",
        "        FI_dfs.append( run_random_forest_feature_importance(year, all_cols))\n",
        "\n",
        "    all_feature_importances = pd.DataFrame({'Feature': []})\n",
        "    for df in FI_dfs:\n",
        "        all_feature_importances = pd.merge(df, all_feature_importances, on='Feature', how='left')\n",
        "\n",
        "    # Set 'Feature' as the index\n",
        "    all_feature_importances.set_index('Feature', inplace=True)\n",
        "\n",
        "    # Calculate the mean impoartance across different years\n",
        "    mean_importance = pd.DataFrame(all_feature_importances.mean(axis=1))\n",
        "    mean_importance.columns = ['Importance']\n",
        "    mean_importance['Importance'] = mean_importance['Importance'].round(4)\n",
        "    mean_importance = mean_importance.sort_values(by='Importance', ascending=False).reset_index(drop=False)\n",
        "    \n",
        "    return mean_importance"
      ]
    },
    {
      "cell_type": "code",
      "execution_count": 506,
      "metadata": {},
      "outputs": [
        {
          "data": {
            "text/html": [
              "<div>\n",
              "<style scoped>\n",
              "    .dataframe tbody tr th:only-of-type {\n",
              "        vertical-align: middle;\n",
              "    }\n",
              "\n",
              "    .dataframe tbody tr th {\n",
              "        vertical-align: top;\n",
              "    }\n",
              "\n",
              "    .dataframe thead th {\n",
              "        text-align: right;\n",
              "    }\n",
              "</style>\n",
              "<table border=\"1\" class=\"dataframe\">\n",
              "  <thead>\n",
              "    <tr style=\"text-align: right;\">\n",
              "      <th></th>\n",
              "      <th>Feature</th>\n",
              "      <th>Importance</th>\n",
              "    </tr>\n",
              "  </thead>\n",
              "  <tbody>\n",
              "    <tr>\n",
              "      <th>0</th>\n",
              "      <td>away_avg_runs_allowed</td>\n",
              "      <td>0.1434</td>\n",
              "    </tr>\n",
              "    <tr>\n",
              "      <th>1</th>\n",
              "      <td>home_avg_runs_allowed</td>\n",
              "      <td>0.1138</td>\n",
              "    </tr>\n",
              "    <tr>\n",
              "      <th>2</th>\n",
              "      <td>home_allowed_BA</td>\n",
              "      <td>0.0849</td>\n",
              "    </tr>\n",
              "    <tr>\n",
              "      <th>3</th>\n",
              "      <td>away_allowed_BA</td>\n",
              "      <td>0.0713</td>\n",
              "    </tr>\n",
              "    <tr>\n",
              "      <th>4</th>\n",
              "      <td>home_avg_runs_scored</td>\n",
              "      <td>0.0603</td>\n",
              "    </tr>\n",
              "    <tr>\n",
              "      <th>5</th>\n",
              "      <td>home_avg_ER</td>\n",
              "      <td>0.0520</td>\n",
              "    </tr>\n",
              "    <tr>\n",
              "      <th>6</th>\n",
              "      <td>away_avg_ER</td>\n",
              "      <td>0.0491</td>\n",
              "    </tr>\n",
              "    <tr>\n",
              "      <th>7</th>\n",
              "      <td>away_team_avg_HR</td>\n",
              "      <td>0.0490</td>\n",
              "    </tr>\n",
              "    <tr>\n",
              "      <th>8</th>\n",
              "      <td>home_team_avg_HR</td>\n",
              "      <td>0.0480</td>\n",
              "    </tr>\n",
              "    <tr>\n",
              "      <th>9</th>\n",
              "      <td>away_avg_runs_scored</td>\n",
              "      <td>0.0480</td>\n",
              "    </tr>\n",
              "    <tr>\n",
              "      <th>10</th>\n",
              "      <td>away_avg_SO</td>\n",
              "      <td>0.0390</td>\n",
              "    </tr>\n",
              "    <tr>\n",
              "      <th>11</th>\n",
              "      <td>home_avg_SO</td>\n",
              "      <td>0.0367</td>\n",
              "    </tr>\n",
              "    <tr>\n",
              "      <th>12</th>\n",
              "      <td>home_allowed_avg_HR</td>\n",
              "      <td>0.0280</td>\n",
              "    </tr>\n",
              "    <tr>\n",
              "      <th>13</th>\n",
              "      <td>away_distance_travelled_series</td>\n",
              "      <td>0.0272</td>\n",
              "    </tr>\n",
              "    <tr>\n",
              "      <th>14</th>\n",
              "      <td>home_team_BA</td>\n",
              "      <td>0.0270</td>\n",
              "    </tr>\n",
              "    <tr>\n",
              "      <th>15</th>\n",
              "      <td>away_team_BA</td>\n",
              "      <td>0.0260</td>\n",
              "    </tr>\n",
              "    <tr>\n",
              "      <th>16</th>\n",
              "      <td>away_allowed_avg_HR</td>\n",
              "      <td>0.0234</td>\n",
              "    </tr>\n",
              "    <tr>\n",
              "      <th>17</th>\n",
              "      <td>home_distance_travelled_series</td>\n",
              "      <td>0.0164</td>\n",
              "    </tr>\n",
              "    <tr>\n",
              "      <th>18</th>\n",
              "      <td>away_distance_travelled_game</td>\n",
              "      <td>0.0107</td>\n",
              "    </tr>\n",
              "    <tr>\n",
              "      <th>19</th>\n",
              "      <td>away_time_since_last_series</td>\n",
              "      <td>0.0105</td>\n",
              "    </tr>\n",
              "    <tr>\n",
              "      <th>20</th>\n",
              "      <td>home_time_since_last_series</td>\n",
              "      <td>0.0104</td>\n",
              "    </tr>\n",
              "    <tr>\n",
              "      <th>21</th>\n",
              "      <td>away_last_time_zone</td>\n",
              "      <td>0.0069</td>\n",
              "    </tr>\n",
              "    <tr>\n",
              "      <th>22</th>\n",
              "      <td>home_last_time_zone</td>\n",
              "      <td>0.0068</td>\n",
              "    </tr>\n",
              "    <tr>\n",
              "      <th>23</th>\n",
              "      <td>home_distance_travelled_game</td>\n",
              "      <td>0.0044</td>\n",
              "    </tr>\n",
              "    <tr>\n",
              "      <th>24</th>\n",
              "      <td>away_time_between_games</td>\n",
              "      <td>0.0035</td>\n",
              "    </tr>\n",
              "    <tr>\n",
              "      <th>25</th>\n",
              "      <td>home_time_between_games</td>\n",
              "      <td>0.0031</td>\n",
              "    </tr>\n",
              "  </tbody>\n",
              "</table>\n",
              "</div>"
            ],
            "text/plain": [
              "                           Feature  Importance\n",
              "0            away_avg_runs_allowed      0.1434\n",
              "1            home_avg_runs_allowed      0.1138\n",
              "2                  home_allowed_BA      0.0849\n",
              "3                  away_allowed_BA      0.0713\n",
              "4             home_avg_runs_scored      0.0603\n",
              "5                      home_avg_ER      0.0520\n",
              "6                      away_avg_ER      0.0491\n",
              "7                 away_team_avg_HR      0.0490\n",
              "8                 home_team_avg_HR      0.0480\n",
              "9             away_avg_runs_scored      0.0480\n",
              "10                     away_avg_SO      0.0390\n",
              "11                     home_avg_SO      0.0367\n",
              "12             home_allowed_avg_HR      0.0280\n",
              "13  away_distance_travelled_series      0.0272\n",
              "14                    home_team_BA      0.0270\n",
              "15                    away_team_BA      0.0260\n",
              "16             away_allowed_avg_HR      0.0234\n",
              "17  home_distance_travelled_series      0.0164\n",
              "18    away_distance_travelled_game      0.0107\n",
              "19     away_time_since_last_series      0.0105\n",
              "20     home_time_since_last_series      0.0104\n",
              "21             away_last_time_zone      0.0069\n",
              "22             home_last_time_zone      0.0068\n",
              "23    home_distance_travelled_game      0.0044\n",
              "24         away_time_between_games      0.0035\n",
              "25         home_time_between_games      0.0031"
            ]
          },
          "execution_count": 506,
          "metadata": {},
          "output_type": "execute_result"
        }
      ],
      "source": [
        "all_cols = ['home_last_time_zone', 'away_last_time_zone', 'home_time_between_games', \n",
        "            'away_time_between_games', 'home_time_since_last_series',\n",
        "            'away_time_since_last_series', 'home_distance_travelled_series',\n",
        "            'away_distance_travelled_series', 'home_distance_travelled_game',\n",
        "            'away_distance_travelled_game',\n",
        "            'home_team_BA', 'home_allowed_BA', 'home_team_avg_HR',\n",
        "            'home_allowed_avg_HR', 'home_avg_runs_scored', 'home_avg_runs_allowed',\n",
        "            'home_avg_ER', 'home_avg_SO', 'away_team_BA', 'away_allowed_BA',\n",
        "            'away_team_avg_HR', 'away_allowed_avg_HR', 'away_avg_runs_scored',\n",
        "            'away_avg_runs_allowed', 'away_avg_ER', 'away_avg_SO']\n",
        "\n",
        "get_mean_feature_importance(all_cols)"
      ]
    },
    {
      "attachments": {},
      "cell_type": "markdown",
      "metadata": {},
      "source": [
        "### Random Forest Model Performance"
      ]
    },
    {
      "cell_type": "code",
      "execution_count": 528,
      "metadata": {},
      "outputs": [],
      "source": [
        "def run_random_forest_by_year(year, regressors):\n",
        "    reg_data = reg_half2_dict[year].dropna().copy()\n",
        "\n",
        "    reg_data['home_time_zone_change'] = abs(reg_data['home_last_time_zone'] - reg_data['time_zone'])\n",
        "    reg_data['away_time_zone_change'] = abs(reg_data['away_last_time_zone'] - reg_data['time_zone'])\n",
        "    reg_data['home_time_zone_advantage'] = reg_data['home_time_zone_change'] - reg_data['away_time_zone_change']\n",
        "    reg_data['home_travel_advantage'] = reg_data['home_distance_travelled_series'] - reg_data['away_distance_travelled_series']\n",
        "\n",
        "    X = reg_data[regressors]\n",
        "    y = reg_data['home_odds']\n",
        "\n",
        "    # split into train and test data\n",
        "    X_train, X_test, y_train, y_test = train_test_split(X, y, test_size=0.2, random_state=1)\n",
        "\n",
        "    # random forest model\n",
        "    rf_model = RandomForestRegressor(n_estimators=50, random_state=1)\n",
        "\n",
        "    # fit model\n",
        "    rf_model.fit(X_train, y_train)\n",
        "\n",
        "    # make predictions\n",
        "    y_pred = rf_model.predict(X_test)\n",
        "\n",
        "    # calculate MAE\n",
        "    mae = mean_absolute_error(y_test, y_pred)\n",
        "\n",
        "    return mae\n",
        "\n",
        "\n",
        "def run_random_forest_by_year_and_plot(year, regressors):\n",
        "    reg_data = reg_half2_dict[year].dropna().copy()\n",
        "\n",
        "    reg_data['home_time_zone_change'] = abs(reg_data['home_last_time_zone'] - reg_data['time_zone'])\n",
        "    reg_data['away_time_zone_change'] = abs(reg_data['away_last_time_zone'] - reg_data['time_zone'])\n",
        "    reg_data['home_time_zone_advantage'] = reg_data['home_time_zone_change'] - reg_data['away_time_zone_change']\n",
        "    reg_data['home_travel_advantage'] = reg_data['home_distance_travelled_series'] - reg_data['away_distance_travelled_series']\n",
        "\n",
        "    X = reg_data[regressors]\n",
        "    y = reg_data['home_odds']\n",
        "\n",
        "    # split into train and test data\n",
        "    X_train, X_test, y_train, y_test = train_test_split(X, y, test_size=0.2, random_state=1)\n",
        "\n",
        "    # random forest model\n",
        "    rf_model = RandomForestRegressor(n_estimators=50, random_state=1)\n",
        "\n",
        "    # fit model\n",
        "    rf_model.fit(X_train, y_train)\n",
        "\n",
        "    # make predictions\n",
        "    y_pred = rf_model.predict(X_test)\n",
        "\n",
        "    # plot y_pred vs y_actual\n",
        "    fig = go.Figure()\n",
        "\n",
        "    fig.add_trace(go.Scatter(x=y_test, y=y_pred, mode='markers', name='Predictions'))\n",
        "    fig.add_trace(go.Scatter(x=[min(y_pred), max(y_pred)], y=[min(y_pred), max(y_pred)], name='y=x'))\n",
        "\n",
        "    fig.update_layout(\n",
        "        title=f'Predictions vs Observed Values: {year}',\n",
        "        xaxis_title='Observed Values',\n",
        "        yaxis_title='Predicted Values',\n",
        "        xaxis_range=[0.25,0.75],\n",
        "        yaxis_range=[0.25,0.75],\n",
        "        width = 800, height = 600\n",
        "    )\n",
        "\n",
        "    fig.show()\n",
        "\n",
        "\n"
      ]
    },
    {
      "attachments": {},
      "cell_type": "markdown",
      "metadata": {},
      "source": [
        "#### Mean Absolute Error by Year"
      ]
    },
    {
      "cell_type": "code",
      "execution_count": 529,
      "metadata": {},
      "outputs": [
        {
          "data": {
            "text/html": [
              "<div>\n",
              "<style scoped>\n",
              "    .dataframe tbody tr th:only-of-type {\n",
              "        vertical-align: middle;\n",
              "    }\n",
              "\n",
              "    .dataframe tbody tr th {\n",
              "        vertical-align: top;\n",
              "    }\n",
              "\n",
              "    .dataframe thead th {\n",
              "        text-align: right;\n",
              "    }\n",
              "</style>\n",
              "<table border=\"1\" class=\"dataframe\">\n",
              "  <thead>\n",
              "    <tr style=\"text-align: right;\">\n",
              "      <th></th>\n",
              "      <th>Year</th>\n",
              "      <th>Mean-Absolute-Error</th>\n",
              "    </tr>\n",
              "  </thead>\n",
              "  <tbody>\n",
              "    <tr>\n",
              "      <th>0</th>\n",
              "      <td>2008</td>\n",
              "      <td>0.049275</td>\n",
              "    </tr>\n",
              "    <tr>\n",
              "      <th>1</th>\n",
              "      <td>2009</td>\n",
              "      <td>0.057098</td>\n",
              "    </tr>\n",
              "    <tr>\n",
              "      <th>2</th>\n",
              "      <td>2010</td>\n",
              "      <td>0.041469</td>\n",
              "    </tr>\n",
              "    <tr>\n",
              "      <th>3</th>\n",
              "      <td>2011</td>\n",
              "      <td>0.040452</td>\n",
              "    </tr>\n",
              "    <tr>\n",
              "      <th>4</th>\n",
              "      <td>2012</td>\n",
              "      <td>0.043394</td>\n",
              "    </tr>\n",
              "    <tr>\n",
              "      <th>5</th>\n",
              "      <td>2013</td>\n",
              "      <td>0.038420</td>\n",
              "    </tr>\n",
              "    <tr>\n",
              "      <th>6</th>\n",
              "      <td>2014</td>\n",
              "      <td>0.043898</td>\n",
              "    </tr>\n",
              "    <tr>\n",
              "      <th>7</th>\n",
              "      <td>2015</td>\n",
              "      <td>0.047415</td>\n",
              "    </tr>\n",
              "    <tr>\n",
              "      <th>8</th>\n",
              "      <td>2016</td>\n",
              "      <td>0.048612</td>\n",
              "    </tr>\n",
              "    <tr>\n",
              "      <th>9</th>\n",
              "      <td>2017</td>\n",
              "      <td>0.049086</td>\n",
              "    </tr>\n",
              "    <tr>\n",
              "      <th>10</th>\n",
              "      <td>2018</td>\n",
              "      <td>0.043882</td>\n",
              "    </tr>\n",
              "    <tr>\n",
              "      <th>11</th>\n",
              "      <td>2019</td>\n",
              "      <td>0.050016</td>\n",
              "    </tr>\n",
              "    <tr>\n",
              "      <th>12</th>\n",
              "      <td>2021</td>\n",
              "      <td>0.044434</td>\n",
              "    </tr>\n",
              "    <tr>\n",
              "      <th>13</th>\n",
              "      <td>2022</td>\n",
              "      <td>0.041131</td>\n",
              "    </tr>\n",
              "    <tr>\n",
              "      <th>14</th>\n",
              "      <td>2023</td>\n",
              "      <td>0.048037</td>\n",
              "    </tr>\n",
              "  </tbody>\n",
              "</table>\n",
              "</div>"
            ],
            "text/plain": [
              "    Year  Mean-Absolute-Error\n",
              "0   2008             0.049275\n",
              "1   2009             0.057098\n",
              "2   2010             0.041469\n",
              "3   2011             0.040452\n",
              "4   2012             0.043394\n",
              "5   2013             0.038420\n",
              "6   2014             0.043898\n",
              "7   2015             0.047415\n",
              "8   2016             0.048612\n",
              "9   2017             0.049086\n",
              "10  2018             0.043882\n",
              "11  2019             0.050016\n",
              "12  2021             0.044434\n",
              "13  2022             0.041131\n",
              "14  2023             0.048037"
            ]
          },
          "execution_count": 529,
          "metadata": {},
          "output_type": "execute_result"
        }
      ],
      "source": [
        "maes = []\n",
        "for year in reg_half2_dict.keys():\n",
        "    my_regressors = ['home_avg_runs_allowed', 'away_avg_runs_allowed', 'home_allowed_BA', 'away_allowed_BA'] # top 4 feature importance\n",
        "\n",
        "    mae = run_random_forest_by_year(year, my_regressors)\n",
        "    \n",
        "    maes.append(mae)\n",
        "\n",
        "mae_df = pd.DataFrame({'Year': reg_half2_dict.keys(), 'Mean-Absolute-Error': maes})\n",
        "mae_df"
      ]
    },
    {
      "attachments": {},
      "cell_type": "markdown",
      "metadata": {},
      "source": [
        "#### Plot 2023 Results using top 4 Feature Importances"
      ]
    },
    {
      "cell_type": "code",
      "execution_count": 530,
      "metadata": {},
      "outputs": [
        {
          "data": {
            "application/vnd.plotly.v1+json": {
              "config": {
                "plotlyServerURL": "https://plot.ly"
              },
              "data": [
                {
                  "mode": "markers",
                  "name": "Predictions",
                  "type": "scatter",
                  "x": [
                    0.4657087962576225,
                    0.6396841066140178,
                    0.4866238630283573,
                    0.3974945796193688,
                    0.5090362806668776,
                    0.5034106412005457,
                    0.49083409715857,
                    0.4439826185528056,
                    0.5956915391820169,
                    0.4023113485973469,
                    0.7188023603117942,
                    0.3725132757390821,
                    0.591888789695192,
                    0.4565844280679269,
                    0.4776930493470067,
                    0.5158371040723981,
                    0.3890093998553868,
                    0.5384615384615385,
                    0.4897596941561988,
                    0.5513613861386139,
                    0.4124046111381717,
                    0.3965154701111444,
                    0.5247645622602024,
                    0.5168539325842696,
                    0.38557496030846,
                    0.6252015045674368,
                    0.6314972847168348,
                    0.3734110169491526,
                    0.5168539325842696,
                    0.5342912037423774,
                    0.543415571932073,
                    0.6605868702422519,
                    0.435360766526404,
                    0.3716198408096568,
                    0.3919783898056257,
                    0.5802356749102311,
                    0.6332301132037159,
                    0.4466938900711259,
                    0.5457443417277654,
                    0.4932249322493224,
                    0.571889149239795,
                    0.5309727034564354,
                    0.5257276507276507,
                    0.6109906001446133,
                    0.5732822433162066,
                    0.3693863003045817,
                    0.331119017748802,
                    0.4954843079701964,
                    0.4302788844621514,
                    0.5203410907798899,
                    0.61442503969154,
                    0.4690272965435646,
                    0.5988441793981125,
                    0.3561630649275641,
                    0.3112333526346265,
                    0.414691943127962,
                    0.568293775190327,
                    0.5125216282670066,
                    0.5754267394506541,
                    0.4776930493470067,
                    0.5168539325842696,
                    0.4197643250897688,
                    0.6375766544186805,
                    0.4831460674157303,
                    0.4752354377397977,
                    0.61158393785343,
                    0.5555725103477216,
                    0.6162961291050671,
                    0.5168539325842696,
                    0.4776930493470067,
                    0.3707306812504929,
                    0.5620357024060317,
                    0.6162961291050671,
                    0.4070987850645633,
                    0.4841628959276018,
                    0.61442503969154,
                    0.5672006321384958,
                    0.6548942273216206,
                    0.7003367003367004,
                    0.5384615384615385,
                    0.4317062248096731,
                    0.7125169219536681,
                    0.5988441793981125,
                    0.6858152072875999,
                    0.5257276507276507,
                    0.4043084608179831,
                    0.6873864049436568,
                    0.485402443406396,
                    0.5193382517326179,
                    0.5168539325842696,
                    0.6177901320361362,
                    0.6936542669584245,
                    0.4313711567137683,
                    0.380359612724758,
                    0.4210921117684164,
                    0.4390759026992978,
                    0.4565844280679269,
                    0.5767866627829276,
                    0.4615384615384615,
                    0.5193382517326179,
                    0.5754267394506541,
                    0.5544421922209049,
                    0.3561630649275641,
                    0.7084548104956268,
                    0.3837038708949328,
                    0.5896474845713917,
                    0.380359612724758,
                    0.5034106412005457,
                    0.5513613861386139,
                    0.452577725304998,
                    0.5697211155378487,
                    0.6605868702422519,
                    0.452577725304998,
                    0.4417293233082706,
                    0.3974945796193688,
                    0.6983868781347431,
                    0.5366715146478288,
                    0.4681136907510811,
                    0.4565844280679269,
                    0.4327993678615042,
                    0.4796589092201102,
                    0.4752354377397977,
                    0.648711943793911,
                    0.3974945796193688,
                    0.4796589092201102,
                    0.6008197724213874
                  ],
                  "y": [
                    0.43872311433060623,
                    0.6089480034303203,
                    0.5022372919033071,
                    0.4988611410084945,
                    0.5712305923352266,
                    0.5422755654893967,
                    0.5806213435021528,
                    0.5178355153610021,
                    0.581259146364157,
                    0.4360292279046425,
                    0.721283247071669,
                    0.41075911642735335,
                    0.554872165540054,
                    0.506784174493645,
                    0.5449121319253766,
                    0.41075911642735335,
                    0.43278098078445376,
                    0.4955463655785132,
                    0.5532804530538512,
                    0.5247877601772087,
                    0.35936641258113206,
                    0.4988611410084945,
                    0.5138688735806956,
                    0.5453022776126837,
                    0.38488067804133974,
                    0.6538977207426485,
                    0.5918943635317073,
                    0.4299172946310413,
                    0.5753893283575003,
                    0.47864224374232284,
                    0.5535573951489459,
                    0.7114020832107755,
                    0.4689734381698326,
                    0.4988611410084945,
                    0.3940333818886535,
                    0.5420368657552422,
                    0.682819086395958,
                    0.49190582235931024,
                    0.5189346298496837,
                    0.532590556118842,
                    0.587820364051296,
                    0.5535573951489459,
                    0.49020745611364225,
                    0.5826003247927284,
                    0.5573348682989451,
                    0.4721415053197061,
                    0.3739432715141961,
                    0.49323267591636544,
                    0.46267048670655697,
                    0.4915151401767164,
                    0.5991711340139362,
                    0.4500932605979026,
                    0.5517741435556718,
                    0.49829407758430067,
                    0.4062564231804055,
                    0.4278261957015744,
                    0.5178355153610021,
                    0.5678015040327605,
                    0.5407526448825217,
                    0.5139201198330074,
                    0.515586742745515,
                    0.3968807418561363,
                    0.590307247768955,
                    0.5034989714714002,
                    0.4901364811171507,
                    0.5263609786332523,
                    0.5663607247897257,
                    0.6723065826956162,
                    0.48430536809399244,
                    0.46386775751894954,
                    0.36282756178291314,
                    0.5022372919033071,
                    0.5962897686337061,
                    0.3549415755963522,
                    0.515011212940177,
                    0.5539295705380107,
                    0.5389565268494931,
                    0.6110164361879993,
                    0.6557892321748312,
                    0.5953407942696813,
                    0.5124526862236586,
                    0.645888307028248,
                    0.5360986351645769,
                    0.5523211823913295,
                    0.5776035162826658,
                    0.46386775751894954,
                    0.6510877673269577,
                    0.38907640197480603,
                    0.539861047437249,
                    0.6143955779851007,
                    0.5505175265290068,
                    0.5947031488162724,
                    0.5124526862236586,
                    0.36183360578864393,
                    0.4313142239624779,
                    0.5138688735806956,
                    0.5101874664174255,
                    0.48303899384265697,
                    0.46587066206845745,
                    0.5420368657552422,
                    0.5360986351645769,
                    0.5157500345177952,
                    0.37587477526018664,
                    0.6539191810250344,
                    0.44327068239153733,
                    0.5127178473719534,
                    0.4278261957015744,
                    0.4737327550599116,
                    0.5835966680561335,
                    0.40666142024588403,
                    0.49681585782422644,
                    0.662854193627687,
                    0.577051443249093,
                    0.40385569848150277,
                    0.4550613676845963,
                    0.712237102476157,
                    0.6012564127544479,
                    0.5081971822171083,
                    0.5500873156260764,
                    0.4901364811171507,
                    0.5005403104598748,
                    0.4477435031261336,
                    0.48303899384265697,
                    0.46267048670655697,
                    0.539861047437249,
                    0.4944607089549418
                  ]
                },
                {
                  "name": "y=x",
                  "type": "scatter",
                  "x": [
                    0.3549415755963522,
                    0.721283247071669
                  ],
                  "y": [
                    0.3549415755963522,
                    0.721283247071669
                  ]
                }
              ],
              "layout": {
                "height": 600,
                "template": {
                  "data": {
                    "bar": [
                      {
                        "error_x": {
                          "color": "#2a3f5f"
                        },
                        "error_y": {
                          "color": "#2a3f5f"
                        },
                        "marker": {
                          "line": {
                            "color": "#E5ECF6",
                            "width": 0.5
                          },
                          "pattern": {
                            "fillmode": "overlay",
                            "size": 10,
                            "solidity": 0.2
                          }
                        },
                        "type": "bar"
                      }
                    ],
                    "barpolar": [
                      {
                        "marker": {
                          "line": {
                            "color": "#E5ECF6",
                            "width": 0.5
                          },
                          "pattern": {
                            "fillmode": "overlay",
                            "size": 10,
                            "solidity": 0.2
                          }
                        },
                        "type": "barpolar"
                      }
                    ],
                    "carpet": [
                      {
                        "aaxis": {
                          "endlinecolor": "#2a3f5f",
                          "gridcolor": "white",
                          "linecolor": "white",
                          "minorgridcolor": "white",
                          "startlinecolor": "#2a3f5f"
                        },
                        "baxis": {
                          "endlinecolor": "#2a3f5f",
                          "gridcolor": "white",
                          "linecolor": "white",
                          "minorgridcolor": "white",
                          "startlinecolor": "#2a3f5f"
                        },
                        "type": "carpet"
                      }
                    ],
                    "choropleth": [
                      {
                        "colorbar": {
                          "outlinewidth": 0,
                          "ticks": ""
                        },
                        "type": "choropleth"
                      }
                    ],
                    "contour": [
                      {
                        "colorbar": {
                          "outlinewidth": 0,
                          "ticks": ""
                        },
                        "colorscale": [
                          [
                            0,
                            "#0d0887"
                          ],
                          [
                            0.1111111111111111,
                            "#46039f"
                          ],
                          [
                            0.2222222222222222,
                            "#7201a8"
                          ],
                          [
                            0.3333333333333333,
                            "#9c179e"
                          ],
                          [
                            0.4444444444444444,
                            "#bd3786"
                          ],
                          [
                            0.5555555555555556,
                            "#d8576b"
                          ],
                          [
                            0.6666666666666666,
                            "#ed7953"
                          ],
                          [
                            0.7777777777777778,
                            "#fb9f3a"
                          ],
                          [
                            0.8888888888888888,
                            "#fdca26"
                          ],
                          [
                            1,
                            "#f0f921"
                          ]
                        ],
                        "type": "contour"
                      }
                    ],
                    "contourcarpet": [
                      {
                        "colorbar": {
                          "outlinewidth": 0,
                          "ticks": ""
                        },
                        "type": "contourcarpet"
                      }
                    ],
                    "heatmap": [
                      {
                        "colorbar": {
                          "outlinewidth": 0,
                          "ticks": ""
                        },
                        "colorscale": [
                          [
                            0,
                            "#0d0887"
                          ],
                          [
                            0.1111111111111111,
                            "#46039f"
                          ],
                          [
                            0.2222222222222222,
                            "#7201a8"
                          ],
                          [
                            0.3333333333333333,
                            "#9c179e"
                          ],
                          [
                            0.4444444444444444,
                            "#bd3786"
                          ],
                          [
                            0.5555555555555556,
                            "#d8576b"
                          ],
                          [
                            0.6666666666666666,
                            "#ed7953"
                          ],
                          [
                            0.7777777777777778,
                            "#fb9f3a"
                          ],
                          [
                            0.8888888888888888,
                            "#fdca26"
                          ],
                          [
                            1,
                            "#f0f921"
                          ]
                        ],
                        "type": "heatmap"
                      }
                    ],
                    "heatmapgl": [
                      {
                        "colorbar": {
                          "outlinewidth": 0,
                          "ticks": ""
                        },
                        "colorscale": [
                          [
                            0,
                            "#0d0887"
                          ],
                          [
                            0.1111111111111111,
                            "#46039f"
                          ],
                          [
                            0.2222222222222222,
                            "#7201a8"
                          ],
                          [
                            0.3333333333333333,
                            "#9c179e"
                          ],
                          [
                            0.4444444444444444,
                            "#bd3786"
                          ],
                          [
                            0.5555555555555556,
                            "#d8576b"
                          ],
                          [
                            0.6666666666666666,
                            "#ed7953"
                          ],
                          [
                            0.7777777777777778,
                            "#fb9f3a"
                          ],
                          [
                            0.8888888888888888,
                            "#fdca26"
                          ],
                          [
                            1,
                            "#f0f921"
                          ]
                        ],
                        "type": "heatmapgl"
                      }
                    ],
                    "histogram": [
                      {
                        "marker": {
                          "pattern": {
                            "fillmode": "overlay",
                            "size": 10,
                            "solidity": 0.2
                          }
                        },
                        "type": "histogram"
                      }
                    ],
                    "histogram2d": [
                      {
                        "colorbar": {
                          "outlinewidth": 0,
                          "ticks": ""
                        },
                        "colorscale": [
                          [
                            0,
                            "#0d0887"
                          ],
                          [
                            0.1111111111111111,
                            "#46039f"
                          ],
                          [
                            0.2222222222222222,
                            "#7201a8"
                          ],
                          [
                            0.3333333333333333,
                            "#9c179e"
                          ],
                          [
                            0.4444444444444444,
                            "#bd3786"
                          ],
                          [
                            0.5555555555555556,
                            "#d8576b"
                          ],
                          [
                            0.6666666666666666,
                            "#ed7953"
                          ],
                          [
                            0.7777777777777778,
                            "#fb9f3a"
                          ],
                          [
                            0.8888888888888888,
                            "#fdca26"
                          ],
                          [
                            1,
                            "#f0f921"
                          ]
                        ],
                        "type": "histogram2d"
                      }
                    ],
                    "histogram2dcontour": [
                      {
                        "colorbar": {
                          "outlinewidth": 0,
                          "ticks": ""
                        },
                        "colorscale": [
                          [
                            0,
                            "#0d0887"
                          ],
                          [
                            0.1111111111111111,
                            "#46039f"
                          ],
                          [
                            0.2222222222222222,
                            "#7201a8"
                          ],
                          [
                            0.3333333333333333,
                            "#9c179e"
                          ],
                          [
                            0.4444444444444444,
                            "#bd3786"
                          ],
                          [
                            0.5555555555555556,
                            "#d8576b"
                          ],
                          [
                            0.6666666666666666,
                            "#ed7953"
                          ],
                          [
                            0.7777777777777778,
                            "#fb9f3a"
                          ],
                          [
                            0.8888888888888888,
                            "#fdca26"
                          ],
                          [
                            1,
                            "#f0f921"
                          ]
                        ],
                        "type": "histogram2dcontour"
                      }
                    ],
                    "mesh3d": [
                      {
                        "colorbar": {
                          "outlinewidth": 0,
                          "ticks": ""
                        },
                        "type": "mesh3d"
                      }
                    ],
                    "parcoords": [
                      {
                        "line": {
                          "colorbar": {
                            "outlinewidth": 0,
                            "ticks": ""
                          }
                        },
                        "type": "parcoords"
                      }
                    ],
                    "pie": [
                      {
                        "automargin": true,
                        "type": "pie"
                      }
                    ],
                    "scatter": [
                      {
                        "fillpattern": {
                          "fillmode": "overlay",
                          "size": 10,
                          "solidity": 0.2
                        },
                        "type": "scatter"
                      }
                    ],
                    "scatter3d": [
                      {
                        "line": {
                          "colorbar": {
                            "outlinewidth": 0,
                            "ticks": ""
                          }
                        },
                        "marker": {
                          "colorbar": {
                            "outlinewidth": 0,
                            "ticks": ""
                          }
                        },
                        "type": "scatter3d"
                      }
                    ],
                    "scattercarpet": [
                      {
                        "marker": {
                          "colorbar": {
                            "outlinewidth": 0,
                            "ticks": ""
                          }
                        },
                        "type": "scattercarpet"
                      }
                    ],
                    "scattergeo": [
                      {
                        "marker": {
                          "colorbar": {
                            "outlinewidth": 0,
                            "ticks": ""
                          }
                        },
                        "type": "scattergeo"
                      }
                    ],
                    "scattergl": [
                      {
                        "marker": {
                          "colorbar": {
                            "outlinewidth": 0,
                            "ticks": ""
                          }
                        },
                        "type": "scattergl"
                      }
                    ],
                    "scattermapbox": [
                      {
                        "marker": {
                          "colorbar": {
                            "outlinewidth": 0,
                            "ticks": ""
                          }
                        },
                        "type": "scattermapbox"
                      }
                    ],
                    "scatterpolar": [
                      {
                        "marker": {
                          "colorbar": {
                            "outlinewidth": 0,
                            "ticks": ""
                          }
                        },
                        "type": "scatterpolar"
                      }
                    ],
                    "scatterpolargl": [
                      {
                        "marker": {
                          "colorbar": {
                            "outlinewidth": 0,
                            "ticks": ""
                          }
                        },
                        "type": "scatterpolargl"
                      }
                    ],
                    "scatterternary": [
                      {
                        "marker": {
                          "colorbar": {
                            "outlinewidth": 0,
                            "ticks": ""
                          }
                        },
                        "type": "scatterternary"
                      }
                    ],
                    "surface": [
                      {
                        "colorbar": {
                          "outlinewidth": 0,
                          "ticks": ""
                        },
                        "colorscale": [
                          [
                            0,
                            "#0d0887"
                          ],
                          [
                            0.1111111111111111,
                            "#46039f"
                          ],
                          [
                            0.2222222222222222,
                            "#7201a8"
                          ],
                          [
                            0.3333333333333333,
                            "#9c179e"
                          ],
                          [
                            0.4444444444444444,
                            "#bd3786"
                          ],
                          [
                            0.5555555555555556,
                            "#d8576b"
                          ],
                          [
                            0.6666666666666666,
                            "#ed7953"
                          ],
                          [
                            0.7777777777777778,
                            "#fb9f3a"
                          ],
                          [
                            0.8888888888888888,
                            "#fdca26"
                          ],
                          [
                            1,
                            "#f0f921"
                          ]
                        ],
                        "type": "surface"
                      }
                    ],
                    "table": [
                      {
                        "cells": {
                          "fill": {
                            "color": "#EBF0F8"
                          },
                          "line": {
                            "color": "white"
                          }
                        },
                        "header": {
                          "fill": {
                            "color": "#C8D4E3"
                          },
                          "line": {
                            "color": "white"
                          }
                        },
                        "type": "table"
                      }
                    ]
                  },
                  "layout": {
                    "annotationdefaults": {
                      "arrowcolor": "#2a3f5f",
                      "arrowhead": 0,
                      "arrowwidth": 1
                    },
                    "autotypenumbers": "strict",
                    "coloraxis": {
                      "colorbar": {
                        "outlinewidth": 0,
                        "ticks": ""
                      }
                    },
                    "colorscale": {
                      "diverging": [
                        [
                          0,
                          "#8e0152"
                        ],
                        [
                          0.1,
                          "#c51b7d"
                        ],
                        [
                          0.2,
                          "#de77ae"
                        ],
                        [
                          0.3,
                          "#f1b6da"
                        ],
                        [
                          0.4,
                          "#fde0ef"
                        ],
                        [
                          0.5,
                          "#f7f7f7"
                        ],
                        [
                          0.6,
                          "#e6f5d0"
                        ],
                        [
                          0.7,
                          "#b8e186"
                        ],
                        [
                          0.8,
                          "#7fbc41"
                        ],
                        [
                          0.9,
                          "#4d9221"
                        ],
                        [
                          1,
                          "#276419"
                        ]
                      ],
                      "sequential": [
                        [
                          0,
                          "#0d0887"
                        ],
                        [
                          0.1111111111111111,
                          "#46039f"
                        ],
                        [
                          0.2222222222222222,
                          "#7201a8"
                        ],
                        [
                          0.3333333333333333,
                          "#9c179e"
                        ],
                        [
                          0.4444444444444444,
                          "#bd3786"
                        ],
                        [
                          0.5555555555555556,
                          "#d8576b"
                        ],
                        [
                          0.6666666666666666,
                          "#ed7953"
                        ],
                        [
                          0.7777777777777778,
                          "#fb9f3a"
                        ],
                        [
                          0.8888888888888888,
                          "#fdca26"
                        ],
                        [
                          1,
                          "#f0f921"
                        ]
                      ],
                      "sequentialminus": [
                        [
                          0,
                          "#0d0887"
                        ],
                        [
                          0.1111111111111111,
                          "#46039f"
                        ],
                        [
                          0.2222222222222222,
                          "#7201a8"
                        ],
                        [
                          0.3333333333333333,
                          "#9c179e"
                        ],
                        [
                          0.4444444444444444,
                          "#bd3786"
                        ],
                        [
                          0.5555555555555556,
                          "#d8576b"
                        ],
                        [
                          0.6666666666666666,
                          "#ed7953"
                        ],
                        [
                          0.7777777777777778,
                          "#fb9f3a"
                        ],
                        [
                          0.8888888888888888,
                          "#fdca26"
                        ],
                        [
                          1,
                          "#f0f921"
                        ]
                      ]
                    },
                    "colorway": [
                      "#636efa",
                      "#EF553B",
                      "#00cc96",
                      "#ab63fa",
                      "#FFA15A",
                      "#19d3f3",
                      "#FF6692",
                      "#B6E880",
                      "#FF97FF",
                      "#FECB52"
                    ],
                    "font": {
                      "color": "#2a3f5f"
                    },
                    "geo": {
                      "bgcolor": "white",
                      "lakecolor": "white",
                      "landcolor": "#E5ECF6",
                      "showlakes": true,
                      "showland": true,
                      "subunitcolor": "white"
                    },
                    "hoverlabel": {
                      "align": "left"
                    },
                    "hovermode": "closest",
                    "mapbox": {
                      "style": "light"
                    },
                    "paper_bgcolor": "white",
                    "plot_bgcolor": "#E5ECF6",
                    "polar": {
                      "angularaxis": {
                        "gridcolor": "white",
                        "linecolor": "white",
                        "ticks": ""
                      },
                      "bgcolor": "#E5ECF6",
                      "radialaxis": {
                        "gridcolor": "white",
                        "linecolor": "white",
                        "ticks": ""
                      }
                    },
                    "scene": {
                      "xaxis": {
                        "backgroundcolor": "#E5ECF6",
                        "gridcolor": "white",
                        "gridwidth": 2,
                        "linecolor": "white",
                        "showbackground": true,
                        "ticks": "",
                        "zerolinecolor": "white"
                      },
                      "yaxis": {
                        "backgroundcolor": "#E5ECF6",
                        "gridcolor": "white",
                        "gridwidth": 2,
                        "linecolor": "white",
                        "showbackground": true,
                        "ticks": "",
                        "zerolinecolor": "white"
                      },
                      "zaxis": {
                        "backgroundcolor": "#E5ECF6",
                        "gridcolor": "white",
                        "gridwidth": 2,
                        "linecolor": "white",
                        "showbackground": true,
                        "ticks": "",
                        "zerolinecolor": "white"
                      }
                    },
                    "shapedefaults": {
                      "line": {
                        "color": "#2a3f5f"
                      }
                    },
                    "ternary": {
                      "aaxis": {
                        "gridcolor": "white",
                        "linecolor": "white",
                        "ticks": ""
                      },
                      "baxis": {
                        "gridcolor": "white",
                        "linecolor": "white",
                        "ticks": ""
                      },
                      "bgcolor": "#E5ECF6",
                      "caxis": {
                        "gridcolor": "white",
                        "linecolor": "white",
                        "ticks": ""
                      }
                    },
                    "title": {
                      "x": 0.05
                    },
                    "xaxis": {
                      "automargin": true,
                      "gridcolor": "white",
                      "linecolor": "white",
                      "ticks": "",
                      "title": {
                        "standoff": 15
                      },
                      "zerolinecolor": "white",
                      "zerolinewidth": 2
                    },
                    "yaxis": {
                      "automargin": true,
                      "gridcolor": "white",
                      "linecolor": "white",
                      "ticks": "",
                      "title": {
                        "standoff": 15
                      },
                      "zerolinecolor": "white",
                      "zerolinewidth": 2
                    }
                  }
                },
                "title": {
                  "text": "Predictions vs Observed Values: 2023"
                },
                "width": 800,
                "xaxis": {
                  "range": [
                    0.25,
                    0.75
                  ],
                  "title": {
                    "text": "Observed Values"
                  }
                },
                "yaxis": {
                  "range": [
                    0.25,
                    0.75
                  ],
                  "title": {
                    "text": "Predicted Values"
                  }
                }
              }
            }
          },
          "metadata": {},
          "output_type": "display_data"
        }
      ],
      "source": [
        "run_random_forest_by_year_and_plot(2023, my_regressors)"
      ]
    }
  ],
  "metadata": {
    "colab": {
      "provenance": []
    },
    "kernelspec": {
      "display_name": "Python 3",
      "name": "python3"
    },
    "language_info": {
      "codemirror_mode": {
        "name": "ipython",
        "version": 3
      },
      "file_extension": ".py",
      "mimetype": "text/x-python",
      "name": "python",
      "nbconvert_exporter": "python",
      "pygments_lexer": "ipython3",
      "version": "3.9.6"
    }
  },
  "nbformat": 4,
  "nbformat_minor": 0
}
