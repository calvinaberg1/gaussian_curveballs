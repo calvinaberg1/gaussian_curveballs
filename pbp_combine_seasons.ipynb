{
 "cells": [
  {
   "cell_type": "code",
   "execution_count": 1,
   "id": "e34d2adc",
   "metadata": {},
   "outputs": [],
   "source": [
    "import pandas as pd\n",
    "import numpy as np"
   ]
  },
  {
   "cell_type": "code",
   "execution_count": 2,
   "id": "05e5e6a5",
   "metadata": {},
   "outputs": [],
   "source": [
    "# make a dictionary for all seasons\n",
    "season_dict = {}"
   ]
  },
  {
   "cell_type": "code",
   "execution_count": 3,
   "id": "6b814085",
   "metadata": {},
   "outputs": [
    {
     "name": "stderr",
     "output_type": "stream",
     "text": [
      "/var/folders/bg/hyfz4snj4hz8rkdrzj4xgjjw0000gn/T/ipykernel_81746/200148093.py:1: DtypeWarning: Columns (1,44,79) have mixed types. Specify dtype option on import or set low_memory=False.\n",
      "  season_dict[2008] = pd.read_csv('2008_pbp.csv')\n"
     ]
    }
   ],
   "source": [
    "season_dict[2008] = pd.read_csv('2008_pbp.csv')\n",
    "season_dict[2009] = pd.read_csv('2009_pbp.csv')\n",
    "season_dict[2010] = pd.read_csv('2010_pbp.csv')\n",
    "season_dict[2011] = pd.read_csv('2011_pbp.csv')\n",
    "season_dict[2012] = pd.read_csv('2012_pbp.csv')\n",
    "season_dict[2013] = pd.read_csv('2013_pbp.csv')\n",
    "season_dict[2014] = pd.read_csv('2014_pbp.csv')"
   ]
  },
  {
   "cell_type": "code",
   "execution_count": 4,
   "id": "b75ba3ca",
   "metadata": {},
   "outputs": [],
   "source": [
    "season_dict[2015] = pd.read_csv('2015_pbp.csv')\n",
    "season_dict[2016] = pd.read_csv('2016_pbp.csv')\n",
    "season_dict[2017] = pd.read_csv('2017_pbp.csv')\n",
    "season_dict[2018] = pd.read_csv('2018_pbp.csv')"
   ]
  },
  {
   "cell_type": "code",
   "execution_count": 5,
   "id": "f929e4c9",
   "metadata": {},
   "outputs": [],
   "source": [
    "season_dict[2019] = pd.read_csv('2019_pbp.csv')\n",
    "season_dict[2020] = pd.read_csv('2020_pbp.csv')\n",
    "season_dict[2021] = pd.read_csv('2021_pbp.csv')"
   ]
  },
  {
   "cell_type": "code",
   "execution_count": 6,
   "id": "78188be3",
   "metadata": {},
   "outputs": [],
   "source": [
    "season_dict[2022] = pd.read_csv('2022_pbp.csv')\n",
    "season_dict[2023] = pd.read_csv('2023_pbp.csv')"
   ]
  },
  {
   "cell_type": "code",
   "execution_count": 7,
   "id": "69b20a5d",
   "metadata": {},
   "outputs": [],
   "source": [
    "all_seasons = pd.concat(season_dict.values(), ignore_index=True)"
   ]
  },
  {
   "cell_type": "code",
   "execution_count": 8,
   "id": "6ede2bf5",
   "metadata": {},
   "outputs": [],
   "source": [
    "all_seasons.to_csv('all_season_pbp.csv')"
   ]
  },
  {
   "cell_type": "code",
   "execution_count": null,
   "id": "778f46f8",
   "metadata": {},
   "outputs": [],
   "source": []
  }
 ],
 "metadata": {
  "kernelspec": {
   "display_name": "Python 3 (ipykernel)",
   "language": "python",
   "name": "python3"
  },
  "language_info": {
   "codemirror_mode": {
    "name": "ipython",
    "version": 3
   },
   "file_extension": ".py",
   "mimetype": "text/x-python",
   "name": "python",
   "nbconvert_exporter": "python",
   "pygments_lexer": "ipython3",
   "version": "3.11.5"
  }
 },
 "nbformat": 4,
 "nbformat_minor": 5
}
